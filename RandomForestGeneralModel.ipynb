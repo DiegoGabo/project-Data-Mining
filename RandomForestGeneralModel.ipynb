{
 "cells": [
  {
   "cell_type": "code",
   "execution_count": 1,
   "metadata": {
    "collapsed": true
   },
   "outputs": [],
   "source": [
    "#Importing library\n",
    "\n",
    "import numpy as np\n",
    "import pandas as pd\n",
    "import seaborn as sns\n",
    "import matplotlib\n",
    "import matplotlib.pyplot as plt\n",
    "import datetime\n",
    "\n",
    "from scipy import stats\n",
    "from scipy.stats import skew\n",
    "from scipy.stats import norm\n",
    "from scipy.stats.stats import pearsonr\n",
    "from sklearn.ensemble import RandomForestRegressor\n",
    "from sklearn.datasets import make_regression\n",
    "from sklearn.ensemble import ExtraTreesRegressor\n",
    "from sklearn.metrics import mean_squared_error\n",
    "from sklearn.metrics import mean_absolute_error\n",
    "from math import sqrt\n",
    "\n",
    "\n",
    "%matplotlib inline\n",
    "%config InlineBackend.figure_format = 'retina'"
   ]
  },
  {
   "cell_type": "code",
   "execution_count": 19,
   "metadata": {
    "collapsed": true
   },
   "outputs": [],
   "source": [
    "#Importing dataset\n",
    "df = pd.read_csv(\"dataset/train_processed.csv\")"
   ]
  },
  {
   "cell_type": "code",
   "execution_count": 20,
   "metadata": {
    "collapsed": true
   },
   "outputs": [],
   "source": [
    "df_date=df['Date']\n",
    "df_no_date=df.drop(['Date'], axis=1)\n",
    "df_norm= (df_no_date - df_no_date.min()) / (df_no_date.max() - df_no_date.min())\n",
    "df=df_norm\n",
    "df['Date']=df_date"
   ]
  },
  {
   "cell_type": "code",
   "execution_count": 21,
   "metadata": {
    "collapsed": true
   },
   "outputs": [],
   "source": [
    "df_val3=df.loc[(df['Date']>='2018-01-01')]\n",
    "df_val3_rest=df.loc[(df['Date']<'2018-01-01')]\n",
    "df_val2=df_val3_rest.loc[(df_val3_rest['Date']>='2017-11-01')]\n",
    "df_val2_rest=df.loc[(df['Date']<'2017-11-01')]\n",
    "df_val1=df_val2_rest.loc[(df_val2_rest['Date']>='2017-09-01')]\n",
    "df_train=df.loc[(df['Date']<'2017-09-01')]"
   ]
  },
  {
   "cell_type": "code",
   "execution_count": 22,
   "metadata": {
    "collapsed": true
   },
   "outputs": [],
   "source": [
    "df_train_clear=df_train.drop(['Date'], axis=1)\n",
    "df_val1_clear=df_val1.drop(['Date'], axis=1)\n",
    "y=df_train_clear['NumberOfSales']\n",
    "y_val1=df_val1_clear['NumberOfSales']\n",
    "X=df_train_clear.drop(['StoreID','NumberOfSales','NumberOfCustomers'], axis=1)\n",
    "X_val1=df_val1_clear.drop(['StoreID','NumberOfSales','NumberOfCustomers'], axis=1)"
   ]
  },
  {
   "cell_type": "code",
   "execution_count": 6,
   "metadata": {
    "collapsed": false
   },
   "outputs": [
    {
     "name": "stdout",
     "output_type": "stream",
     "text": [
      "con tutte le feature 0.027050311862253797 0.0186987448412\n",
      "Unnamed: 0 0.027997338070694683 0.0193014125829\n",
      "IsHoliday 0.02710133245038511 0.0186852017964\n",
      "HasPromotions 0.040517024069964616 0.0298533599152\n",
      "StoreType 0.027236489026088335 0.018858183177\n",
      "NearestCompetitor 0.027361317527847272 0.0189865025495\n",
      "Region_AreaKM2 0.027065202992134517 0.0187073443776\n",
      "Region_GDP 0.02716966674562721 0.0188078747559\n",
      "Region_PopulationK 0.027126731755568314 0.0187433671335\n",
      "CloudCover 0.027033214352738134 0.0186938089049\n",
      "Max_Dew_PointC 0.02708404124120916 0.0187270348532\n",
      "Max_Gust_SpeedKm_h 0.02704062258382289 0.0186621471031\n",
      "Max_Humidity 0.027024121501696904 0.0186804212131\n",
      "Max_Sea_Level_PressurehPa 0.02694940711071912 0.0185911769715\n",
      "Max_TemperatureC 0.026904677274434387 0.0185394453967\n",
      "Max_VisibilityKm 0.027145338153222762 0.0187404207042\n",
      "Max_Wind_SpeedKm_h 0.027033932319462415 0.0186599871863\n",
      "Mean_Dew_PointC 0.027119063128251856 0.0187294536208\n",
      "Mean_Humidity 0.027091339656286115 0.0187027045447\n",
      "Mean_Sea_Level_PressurehPa 0.027037029448593434 0.0186520916239\n",
      "Mean_TemperatureC 0.02679974600776013 0.0184862574648\n",
      "Mean_VisibilityKm 0.027054212650512964 0.018683076283\n"
     ]
    }
   ],
   "source": [
    "nt=201\n",
    "na=12\n",
    "depth=21\n",
    "\n",
    "feature_names = list(X.columns)\n",
    "\n",
    "forest = RandomForestRegressor(max_depth=depth, random_state=0, n_estimators=nt, max_features=na, n_jobs=-1)\n",
    "forest.fit(X, y)\n",
    "y_pred=forest.predict(X_val1)\n",
    "mse_val1=mean_squared_error(y_val1,y_pred)\n",
    "mae_val1=mean_absolute_error(y_val1,y_pred)\n",
    "print(\"con tutte le feature\", sqrt(mse_val1), mae_val1)\n",
    "\n",
    "for feature in feature_names[:21]:\n",
    "    X=df_train_clear.drop(['StoreID','NumberOfSales','NumberOfCustomers'], axis=1)\n",
    "    X_val1=df_val1_clear.drop(['StoreID','NumberOfSales','NumberOfCustomers'], axis=1)\n",
    "    X=X.drop([feature], axis=1)\n",
    "    X_val1=X_val1.drop([feature], axis=1)\n",
    "    forest = RandomForestRegressor(max_depth=depth, random_state=0, n_estimators=nt, max_features=na, n_jobs=-1)\n",
    "    forest.fit(X, y)\n",
    "    y_pred=forest.predict(X_val1)\n",
    "    mse_val1=mean_squared_error(y_val1,y_pred)\n",
    "    mae_val1=mean_absolute_error(y_val1,y_pred)\n",
    "    print(feature, sqrt(mse_val1), mae_val1)"
   ]
  },
  {
   "cell_type": "code",
   "execution_count": 12,
   "metadata": {
    "collapsed": false
   },
   "outputs": [
    {
     "name": "stdout",
     "output_type": "stream",
     "text": [
      "con tutte le feature 0.039285415804543575 0.0249145285335\n",
      "Unnamed: 0 0.039970828824280574 0.0253731258481\n",
      "IsHoliday 0.0406153848654935 0.0257476749807\n",
      "HasPromotions 0.0553637011778398 0.0377441180352\n",
      "StoreType 0.03927950967819491 0.025492596575\n",
      "NearestCompetitor 0.040589349967959355 0.0263659804852\n",
      "Region_GDP 0.040817505002978725 0.02620025896\n",
      "Region_PopulationK 0.03956467404449011 0.025066638926\n",
      "CloudCover 0.038939040507150795 0.0252536555031\n",
      "Max_Dew_PointC 0.039816698719372205 0.0255497858666\n",
      "Max_Gust_SpeedKm_h 0.04409335850842288 0.0267199885781\n",
      "Max_Humidity 0.04058721459984816 0.0256782710217\n",
      "Max_Sea_Level_PressurehPa 0.03838082572322916 0.0248814789891\n",
      "Max_TemperatureC 0.04098064021722482 0.0261464828477\n",
      "Max_VisibilityKm 0.039195252816158745 0.0252242639622\n",
      "Max_Wind_SpeedKm_h 0.04016378071416871 0.0251791225258\n",
      "Mean_Dew_PointC 0.04036892583769925 0.0252601121417\n",
      "Mean_Humidity 0.04080585086506183 0.026011219677\n",
      "Mean_Sea_Level_PressurehPa 0.04024000501270209 0.0256874252382\n",
      "Mean_TemperatureC 0.04029395049602207 0.0256431983607\n",
      "Mean_VisibilityKm 0.03757797953881539 0.0242340976474\n",
      "Mean_Wind_SpeedKm_h 0.0393135516929507 0.0257433686478\n",
      "Min_Dew_PointC 0.040122487383077055 0.0260525204709\n",
      "Min_Humidity 0.04062613507110323 0.026134237051\n",
      "Min_Sea_Level_PressurehPa 0.03828793155981429 0.0251337689262\n",
      "Min_TemperatureC 0.04023658710225452 0.0251618653067\n",
      "Min_VisibilitykM 0.039938769564301375 0.0252296047118\n",
      "Precipitationmm 0.03934885946509978 0.0250596712887\n",
      "WindDirDegrees 0.04028560027829186 0.0258095909111\n",
      "AssortmentType_With Fish Department 0.04026563914365552 0.0260131696611\n",
      "AssortmentType_With Non-Food Department 0.03967182168330887 0.0259281473836\n",
      "Rain 0.04004866853105193 0.0255682841636\n",
      "Snow 0.04099633803684792 0.0256676649284\n",
      "Fog 0.04089449701472789 0.0254082831699\n",
      "Hail 0.04055237615086191 0.0254398536228\n",
      "Thunderstorm 0.040591813318134176 0.0260284297346\n",
      "IsSaturday 0.04070653503465982 0.026812015885\n",
      "IsSunday 0.04168558223425655 0.0264412309176\n",
      "WasOpenYesterday 0.04295421871678231 0.0290154014204\n",
      "IsOpenTomorrow 0.040022462411247024 0.0259557344753\n",
      "MeanStoreSales 0.04967765122834446 0.032534004936\n"
     ]
    }
   ],
   "source": [
    "nt=1\n",
    "na=12\n",
    "depth=21\n",
    "\n",
    "feature_names = list(X.columns)\n",
    "\n",
    "X=df_train_clear.drop(['StoreID','NumberOfSales','NumberOfCustomers', 'MeanMonthSales'], axis=1)\n",
    "X_val1=df_val1_clear.drop(['StoreID','NumberOfSales','NumberOfCustomers', 'MeanMonthSales'], axis=1)\n",
    "X=X.drop([feature], axis=1)\n",
    "X_val1=X_val1.drop([feature], axis=1)\n",
    "forest = RandomForestRegressor(max_depth=depth, random_state=0, n_estimators=nt, max_features=na, n_jobs=-1)\n",
    "forest.fit(X, y)\n",
    "y_pred=forest.predict(X_val1)\n",
    "mse_val1=mean_squared_error(y_val1,y_pred)\n",
    "mae_val1=mean_absolute_error(y_val1,y_pred)\n",
    "print(\"con tutte le feature\", sqrt(mse_val1), mae_val1)\n",
    "\n",
    "for feature in feature_names:\n",
    "    X=df_train_clear.drop(['StoreID','NumberOfSales','NumberOfCustomers', 'MeanMonthSales'], axis=1)\n",
    "    X_val1=df_val1_clear.drop(['StoreID','NumberOfSales','NumberOfCustomers', 'MeanMonthSales'], axis=1)\n",
    "    X=X.drop([feature], axis=1)\n",
    "    X_val1=X_val1.drop([feature], axis=1)\n",
    "    forest = RandomForestRegressor(max_depth=depth, random_state=0, n_estimators=nt, max_features=na, n_jobs=-1)\n",
    "    forest.fit(X, y)\n",
    "    y_pred=forest.predict(X_val1)\n",
    "    mse_val1=mean_squared_error(y_val1,y_pred)\n",
    "    mae_val1=mean_absolute_error(y_val1,y_pred)\n",
    "    print(feature, sqrt(mse_val1), mae_val1)"
   ]
  },
  {
   "cell_type": "code",
   "execution_count": null,
   "metadata": {
    "collapsed": false
   },
   "outputs": [],
   "source": [
    "worseFeatures = ['MeanMonthSales','Min_Sea_Level_PressurehPa']\n",
    "nt=201\n",
    "na=12\n",
    "depth=21\n",
    "\n",
    "X=df_train_clear.drop(['StoreID','NumberOfSales','NumberOfCustomers'], axis=1)\n",
    "X_val1=df_val1_clear.drop(['StoreID','NumberOfSales','NumberOfCustomers'], axis=1)\n",
    "X=X.drop(worseFeatures, axis=1)\n",
    "X_val1=X_val1.drop(worseFeatures, axis=1)\n",
    "forest = RandomForestRegressor(max_depth=depth, random_state=0, n_estimators=nt, max_features=na, n_jobs=-1)\n",
    "forest.fit(X, y)\n",
    "y_pred=forest.predict(X_val1)\n",
    "mse_val1=mean_squared_error(y_val1,y_pred)\n",
    "mae_val1=mean_absolute_error(y_val1,y_pred)\n",
    "print(feature, sqrt(mse_val1), mae_val1)"
   ]
  }
 ],
 "metadata": {
  "anaconda-cloud": {},
  "kernelspec": {
   "display_name": "Python [default]",
   "language": "python",
   "name": "python3"
  },
  "language_info": {
   "codemirror_mode": {
    "name": "ipython",
    "version": 3
   },
   "file_extension": ".py",
   "mimetype": "text/x-python",
   "name": "python",
   "nbconvert_exporter": "python",
   "pygments_lexer": "ipython3",
   "version": "3.5.2"
  }
 },
 "nbformat": 4,
 "nbformat_minor": 2
}
