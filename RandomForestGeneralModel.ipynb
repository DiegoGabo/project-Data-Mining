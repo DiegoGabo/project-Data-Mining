{
 "cells": [
  {
   "cell_type": "code",
   "execution_count": 1,
   "metadata": {
    "collapsed": true
   },
   "outputs": [],
   "source": [
    "#Importing library\n",
    "\n",
    "import numpy as np\n",
    "import pandas as pd\n",
    "import seaborn as sns\n",
    "import matplotlib\n",
    "import matplotlib.pyplot as plt\n",
    "import datetime\n",
    "\n",
    "from scipy import stats\n",
    "from scipy.stats import skew\n",
    "from scipy.stats import norm\n",
    "from scipy.stats.stats import pearsonr\n",
    "from sklearn.ensemble import RandomForestRegressor\n",
    "from sklearn.datasets import make_regression\n",
    "from sklearn.ensemble import ExtraTreesRegressor\n",
    "from sklearn.metrics import mean_squared_error\n",
    "from sklearn.metrics import mean_absolute_error\n",
    "from math import sqrt\n",
    "\n",
    "\n",
    "%matplotlib inline\n",
    "%config InlineBackend.figure_format = 'retina'"
   ]
  },
  {
   "cell_type": "code",
   "execution_count": 2,
   "metadata": {
    "collapsed": false
   },
   "outputs": [],
   "source": [
    "#Importing dataset\n",
    "train = pd.read_csv(\"dataset/train.csv\")\n",
    "val = pd.read_csv(\"dataset/train_val1.csv\")"
   ]
  },
  {
   "cell_type": "markdown",
   "metadata": {},
   "source": [
    "We normalize the data so that all values are between 0 and 1. So we first remove 'Date' which is the only non numerical attribute. The we apply range normalisation and at the end we add 'Date'. "
   ]
  },
  {
   "cell_type": "code",
   "execution_count": 3,
   "metadata": {
    "collapsed": true
   },
   "outputs": [],
   "source": [
    "train= (train - train.min()) / (train.max() - train.min())\n",
    "val= (val - val.min()) / (val.max() - val.min())"
   ]
  },
  {
   "cell_type": "markdown",
   "metadata": {},
   "source": [
    "We prepare the target valuesy for all the sets"
   ]
  },
  {
   "cell_type": "code",
   "execution_count": 4,
   "metadata": {
    "collapsed": false
   },
   "outputs": [],
   "source": [
    "y=train['NumberOfSales']\n",
    "y_val1=val['NumberOfSales']"
   ]
  },
  {
   "cell_type": "markdown",
   "metadata": {},
   "source": [
    "We prepare the training input samples for all the sets"
   ]
  },
  {
   "cell_type": "code",
   "execution_count": 5,
   "metadata": {
    "collapsed": false
   },
   "outputs": [],
   "source": [
    "X=train.drop(['NumberOfSales'], axis=1)\n",
    "X_val1=val.drop(['NumberOfSales'], axis=1)"
   ]
  },
  {
   "cell_type": "code",
   "execution_count": null,
   "metadata": {
    "collapsed": false
   },
   "outputs": [
    {
     "name": "stdout",
     "output_type": "stream",
     "text": [
      "con tutte le feature 0.056355195206353854 0.0369289847768\n",
      "Mean_VisibilityKm 0.06043534070929066 0.039439171994\n",
      "Mean_Wind_SpeedKm_h 0.05671787148050311 0.037892629004\n",
      "Min_Dew_PointC 0.05761372791491008 0.0379119881089\n"
     ]
    }
   ],
   "source": [
    "nt=201\n",
    "na=12\n",
    "depth=21\n",
    "\n",
    "feature_names = list(X.columns)\n",
    "\n",
    "forest = RandomForestRegressor(max_depth=depth, random_state=0, n_estimators=nt, max_features=na, n_jobs=-1)\n",
    "forest.fit(X, y)\n",
    "y_pred=forest.predict(X_val1)\n",
    "mse_val1=mean_squared_error(y_val1,y_pred)\n",
    "mae_val1=mean_absolute_error(y_val1,y_pred)\n",
    "print(\"con tutte le feature\", sqrt(mse_val1), mae_val1)\n",
    "\n",
    "for feature in feature_names[21:]:\n",
    "    X=train.drop(['NumberOfSales'], axis=1)\n",
    "    X_val1=val.drop(['NumberOfSales'], axis=1)\n",
    "    X=X.drop([feature], axis=1)\n",
    "    X_val1=X_val1.drop([feature], axis=1)\n",
    "    forest = RandomForestRegressor(max_depth=depth, random_state=0, n_estimators=nt, max_features=na, n_jobs=-1)\n",
    "    forest.fit(X, y)\n",
    "    y_pred=forest.predict(X_val1)\n",
    "    mse_val1=mean_squared_error(y_val1,y_pred)\n",
    "    mae_val1=mean_absolute_error(y_val1,y_pred)\n",
    "    print(feature, sqrt(mse_val1), mae_val1)"
   ]
  },
  {
   "cell_type": "code",
   "execution_count": null,
   "metadata": {
    "collapsed": true
   },
   "outputs": [],
   "source": []
  }
 ],
 "metadata": {
  "anaconda-cloud": {},
  "kernelspec": {
   "display_name": "Python [default]",
   "language": "python",
   "name": "python3"
  },
  "language_info": {
   "codemirror_mode": {
    "name": "ipython",
    "version": 3
   },
   "file_extension": ".py",
   "mimetype": "text/x-python",
   "name": "python",
   "nbconvert_exporter": "python",
   "pygments_lexer": "ipython3",
   "version": "3.5.2"
  }
 },
 "nbformat": 4,
 "nbformat_minor": 2
}
