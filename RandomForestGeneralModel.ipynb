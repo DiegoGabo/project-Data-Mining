{
 "cells": [
  {
   "cell_type": "code",
   "execution_count": 20,
   "metadata": {
    "collapsed": true
   },
   "outputs": [],
   "source": [
    "#Importing library\n",
    "\n",
    "import numpy as np\n",
    "import pandas as pd\n",
    "import seaborn as sns\n",
    "import matplotlib\n",
    "import matplotlib.pyplot as plt\n",
    "import datetime\n",
    "\n",
    "from scipy import stats\n",
    "from scipy.stats import skew\n",
    "from scipy.stats import norm\n",
    "from scipy.stats.stats import pearsonr\n",
    "from sklearn.ensemble import RandomForestRegressor\n",
    "from sklearn.datasets import make_regression\n",
    "from sklearn.ensemble import ExtraTreesRegressor\n",
    "from sklearn.metrics import mean_squared_error\n",
    "from sklearn.metrics import mean_absolute_error\n",
    "from math import sqrt\n",
    "\n",
    "\n",
    "%matplotlib inline\n",
    "%config InlineBackend.figure_format = 'retina'"
   ]
  },
  {
   "cell_type": "code",
   "execution_count": 21,
   "metadata": {
    "collapsed": false
   },
   "outputs": [],
   "source": [
    "#Importing dataset\n",
    "train = pd.read_csv(\"dataset/train.csv\")\n",
    "val = pd.read_csv(\"dataset/train_val1.csv\")"
   ]
  },
  {
   "cell_type": "markdown",
   "metadata": {},
   "source": [
    "We normalize the data so that all values are between 0 and 1. So we first remove 'Date' which is the only non numerical attribute. The we apply range normalisation and at the end we add 'Date'. "
   ]
  },
  {
   "cell_type": "code",
   "execution_count": 22,
   "metadata": {
    "collapsed": true
   },
   "outputs": [],
   "source": [
    "train= (train - train.min()) / (train.max() - train.min())\n",
    "val= (val - train.min()) / (train.max() - train.min())"
   ]
  },
  {
   "cell_type": "code",
   "execution_count": 23,
   "metadata": {
    "collapsed": false
   },
   "outputs": [
    {
     "data": {
      "text/plain": [
       "Index(['Unnamed: 0', 'StoreID', 'IsHoliday', 'HasPromotions', 'StoreType',\n",
       "       'NearestCompetitor', 'NumberOfSales', 'Region_AreaKM2', 'Region_GDP',\n",
       "       'Region_PopulationK', 'CloudCover', 'Max_Dew_PointC',\n",
       "       'Max_Gust_SpeedKm_h', 'Max_Humidity', 'Max_Sea_Level_PressurehPa',\n",
       "       'Max_TemperatureC', 'Max_VisibilityKm', 'Max_Wind_SpeedKm_h',\n",
       "       'Mean_Dew_PointC', 'Mean_Humidity', 'Mean_Sea_Level_PressurehPa',\n",
       "       'Mean_TemperatureC', 'Mean_VisibilityKm', 'Mean_Wind_SpeedKm_h',\n",
       "       'Min_Dew_PointC', 'Min_Humidity', 'Min_Sea_Level_PressurehPa',\n",
       "       'Min_TemperatureC', 'Min_VisibilitykM', 'Precipitationmm',\n",
       "       'WindDirDegrees', 'AssortmentType_With Fish Department',\n",
       "       'AssortmentType_With Non-Food Department', 'Rain', 'Snow', 'Fog',\n",
       "       'Hail', 'Thunderstorm', 'IsSaturday', 'IsSunday', 'WasOpenYesterday',\n",
       "       'IsOpenTomorrow', 'MeanMonthSales', 'MeanStoreSales'],\n",
       "      dtype='object')"
      ]
     },
     "execution_count": 23,
     "metadata": {},
     "output_type": "execute_result"
    }
   ],
   "source": [
    "train.columns"
   ]
  },
  {
   "cell_type": "markdown",
   "metadata": {},
   "source": [
    "We prepare the target valuesy for all the sets"
   ]
  },
  {
   "cell_type": "code",
   "execution_count": 24,
   "metadata": {
    "collapsed": false
   },
   "outputs": [],
   "source": [
    "y=train['NumberOfSales']\n",
    "y_val1=val['NumberOfSales']"
   ]
  },
  {
   "cell_type": "markdown",
   "metadata": {},
   "source": [
    "We prepare the training input samples for all the sets"
   ]
  },
  {
   "cell_type": "code",
   "execution_count": 25,
   "metadata": {
    "collapsed": false
   },
   "outputs": [],
   "source": [
    "X=train.drop(['NumberOfSales', 'StoreID'], axis=1)\n",
    "X_val1=val.drop(['NumberOfSales', 'StoreID'], axis=1)"
   ]
  },
  {
   "cell_type": "code",
   "execution_count": null,
   "metadata": {
    "collapsed": false
   },
   "outputs": [],
   "source": [
    "nt=201\n",
    "na=12\n",
    "depth=21\n",
    "\n",
    "feature_names = list(X.columns)\n",
    "\n",
    "forest = RandomForestRegressor(max_depth=depth, random_state=0, n_estimators=nt, max_features=na, n_jobs=-1)\n",
    "forest.fit(X, y)\n",
    "y_pred=forest.predict(X_val1)\n",
    "mse_val1=mean_squared_error(y_val1,y_pred)\n",
    "mae_val1=mean_absolute_error(y_val1,y_pred)\n",
    "print(\"con tutte le feature\", sqrt(mse_val1), mae_val1)\n",
    "\n",
    "for feature in feature_names[:21]:\n",
    "    X=train.drop(['NumberOfSales', 'StoreID'], axis=1)\n",
    "    X_val1=val.drop(['NumberOfSales', 'StoreID'], axis=1)\n",
    "    X=X.drop([feature], axis=1)\n",
    "    X_val1=X_val1.drop([feature], axis=1)\n",
    "    forest = RandomForestRegressor(max_depth=depth, random_state=0, n_estimators=nt, max_features=na, n_jobs=-1)\n",
    "    forest.fit(X, y)\n",
    "    y_pred=forest.predict(X_val1)\n",
    "    mse_val1=mean_squared_error(y_val1,y_pred)\n",
    "    mae_val1=mean_absolute_error(y_val1,y_pred)\n",
    "    print(feature, sqrt(mse_val1), mae_val1)"
   ]
  },
  {
   "cell_type": "code",
   "execution_count": null,
   "metadata": {
    "collapsed": true
   },
   "outputs": [],
   "source": []
  }
 ],
 "metadata": {
  "anaconda-cloud": {},
  "kernelspec": {
   "display_name": "Python [default]",
   "language": "python",
   "name": "python3"
  },
  "language_info": {
   "codemirror_mode": {
    "name": "ipython",
    "version": 3
   },
   "file_extension": ".py",
   "mimetype": "text/x-python",
   "name": "python",
   "nbconvert_exporter": "python",
   "pygments_lexer": "ipython3",
   "version": "3.5.2"
  }
 },
 "nbformat": 4,
 "nbformat_minor": 2
}
