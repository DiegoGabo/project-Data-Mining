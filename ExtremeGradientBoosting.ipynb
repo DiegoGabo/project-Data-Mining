{
 "cells": [
  {
   "cell_type": "code",
   "execution_count": 1,
   "metadata": {
    "collapsed": false
   },
   "outputs": [],
   "source": [
    "#Importing library\n",
    "\n",
    "import numpy as np\n",
    "import pandas as pd\n",
    "import seaborn as sns\n",
    "import matplotlib.pyplot as plt\n",
    "import datetime\n",
    "#import xgboost as xgb\n",
    "\n",
    "from scipy import stats\n",
    "from scipy.stats import skew\n",
    "from scipy.stats import norm\n",
    "from scipy.stats.stats import pearsonr\n",
    "from sklearn.datasets import make_regression\n",
    "from xgboost.sklearn import XGBRegressor\n",
    "from sklearn.metrics import mean_squared_error\n",
    "from sklearn.metrics import mean_absolute_error\n",
    "from math import sqrt\n",
    "\n",
    "\n",
    "%matplotlib inline\n",
    "%config InlineBackend.figure_format = 'retina'"
   ]
  },
  {
   "cell_type": "code",
   "execution_count": 2,
   "metadata": {
    "collapsed": true
   },
   "outputs": [],
   "source": [
    "#Importing dataset\n",
    "df = pd.read_csv(\"dataset/train_processed.csv\")"
   ]
  },
  {
   "cell_type": "code",
   "execution_count": 3,
   "metadata": {
    "collapsed": true
   },
   "outputs": [],
   "source": [
    "df_date=df['Date']\n",
    "df_no_date=df.drop(['Date'], axis=1)\n",
    "df_norm= (df_no_date - df_no_date.min()) / (df_no_date.max() - df_no_date.min())\n",
    "df=df_norm\n",
    "df['Date']=df_date"
   ]
  },
  {
   "cell_type": "code",
   "execution_count": 4,
   "metadata": {
    "collapsed": true
   },
   "outputs": [],
   "source": [
    "df_val3=df.loc[(df['Date']>='2018-01-01')]\n",
    "df_val3_rest=df.loc[(df['Date']<'2018-01-01')]\n",
    "df_val2=df_val3_rest.loc[(df_val3_rest['Date']>='2017-11-01')]\n",
    "df_val2_rest=df.loc[(df['Date']<'2017-11-01')]\n",
    "df_val1=df_val2_rest.loc[(df_val2_rest['Date']>='2017-09-01')]\n",
    "df_train=df.loc[(df['Date']<'2017-09-01')]"
   ]
  },
  {
   "cell_type": "code",
   "execution_count": 5,
   "metadata": {
    "collapsed": true
   },
   "outputs": [],
   "source": [
    "df_train_clear=df_train.drop(['Date'], axis=1)\n",
    "df_val1_clear=df_val1.drop(['Date'], axis=1)\n",
    "df_val2_clear=df_val2.drop(['Date'], axis=1)\n",
    "df_val3_clear=df_val3.drop(['Date'], axis=1)"
   ]
  },
  {
   "cell_type": "code",
   "execution_count": 6,
   "metadata": {
    "collapsed": true
   },
   "outputs": [],
   "source": [
    "y=df_train_clear['NumberOfSales']\n",
    "y_val1=df_val1_clear['NumberOfSales']\n",
    "y_val2=df_val2_clear['NumberOfSales']\n",
    "y_val3=df_val3_clear['NumberOfSales']"
   ]
  },
  {
   "cell_type": "code",
   "execution_count": 7,
   "metadata": {
    "collapsed": false
   },
   "outputs": [],
   "source": [
    "X=df_train_clear.drop(['StoreID','NumberOfSales','NumberOfCustomers', 'Unnamed: 0'], axis=1)\n",
    "X_val1=df_val1_clear.drop(['StoreID','NumberOfSales','NumberOfCustomers', 'Unnamed: 0'], axis=1)\n",
    "X_val2=df_val2_clear.drop(['StoreID','NumberOfSales','NumberOfCustomers', 'Unnamed: 0'], axis=1)\n",
    "X_val3=df_val3_clear.drop(['StoreID','NumberOfSales','NumberOfCustomers', 'Unnamed: 0'], axis=1)"
   ]
  },
  {
   "cell_type": "code",
   "execution_count": 8,
   "metadata": {
    "collapsed": true
   },
   "outputs": [],
   "source": [
    "columns=['eta','max_depth', 'colsample_bytree', 'n_estimators','min_child_weight','gamma', 'subsample', mse', 'mae']\n",
    "index=range(1,1125000)\n",
    "hp=pd.DataFrame(index=index,columns=columns)"
   ]
  },
  {
   "cell_type": "markdown",
   "metadata": {
    "collapsed": true
   },
   "source": [
    "index = 0\n",
    "for eta in [0.1, 0.2, 0.3]:\n",
    "    for max_depth in [3, 6, 10]:\n",
    "        for colsample_bytree in [0.6,0.8]:\n",
    "            for n_estimators in range(50, 201, 50):\n",
    "                xclas = XGBRegressor(subsample=0.6, eta=eta, max_depth=max_depth, \n",
    "                                     colsample_bytree=colsample_bytree, nthread=4,\n",
    "                                     n_estimators=n_estimators)  \n",
    "                xclas.fit(X, y)   \n",
    "                y_pred = xclas.predict(X_val1) \n",
    "                mse_val1=mean_squared_error(y_val1,y_pred)\n",
    "                mae_val1=mean_absolute_error(y_val1,y_pred)\n",
    "                index +=1\n",
    "                hp.at[index,'eta']=eta\n",
    "                hp.at[index,'max_depth']=max_depth\n",
    "                hp.at[index,'colsample_bytree']=colsample_bytree\n",
    "                hp.at[index, 'n_estimators']=n_estimators\n",
    "                hp.at[index, 'mae']=mae_val1\n",
    "                hp.at[index,'mse']=sqrt(mse_val1)\n",
    "                print(eta, max_depth, colsample_bytree, n_estimators, sqrt(mse_val1), mae_val1)"
   ]
  },
  {
   "cell_type": "code",
   "execution_count": 40,
   "metadata": {
    "collapsed": false
   },
   "outputs": [
    {
     "name": "stdout",
     "output_type": "stream",
     "text": [
      "0.3 9 0.55 75 5 0 0.029446591057216216 0.0208359766567\n"
     ]
    }
   ],
   "source": [
    "index = 0\n",
    "\n",
    "n_estimators=75\n",
    "eta=0.3\n",
    "max_depth=9\n",
    "min_child_weight=5\n",
    "gamma=0\n",
    "subsample=0.6\n",
    "colsample_bytree=0.55\n",
    "\n",
    "xclas = XGBRegressor(subsample=subsample, eta=eta, max_depth=max_depth, \n",
    "                     colsample_bytree=colsample_bytree, nthread=4,\n",
    "                     min_child_weight=min_child_weight, gamma=gamma,\n",
    "                     n_estimators=n_estimators)  \n",
    "xclas.fit(X, y)   \n",
    "y_pred = xclas.predict(X_val1) \n",
    "mse_val1=mean_squared_error(y_val1,y_pred)\n",
    "mae_val1=mean_absolute_error(y_val1,y_pred)\n",
    "index +=1\n",
    "hp.at[index,'eta']=eta\n",
    "hp.at[index,'max_depth']=max_depth\n",
    "hp.at[index,'colsample_bytree']=colsample_bytree\n",
    "hp.at[index, 'n_estimators']=n_estimators\n",
    "hp.at[index, 'gamma']=gamma\n",
    "hp.at[index, 'subsample']=subsample\n",
    "hp.at[index, 'min_child_weight']=min_child_weight\n",
    "hp.at[index, 'mae']=mae_val1\n",
    "hp.at[index,'mse']=sqrt(mse_val1)\n",
    "print(eta, max_depth, colsample_bytree, n_estimators, min_child_weight, gamma, sqrt(mse_val1), mae_val1)"
   ]
  },
  {
   "cell_type": "code",
   "execution_count": 41,
   "metadata": {
    "collapsed": false
   },
   "outputs": [
    {
     "name": "stdout",
     "output_type": "stream",
     "text": [
      "   eta max_depth colsample_bytree n_estimators        mse       mae  gamma  \\\n",
      "1  0.3         9             0.55           75  0.0294466  0.020836    0.0   \n",
      "6  0.3         9             0.55           75  0.0294466  0.020836    0.0   \n",
      "\n",
      "   subsample  min_child_weight  \n",
      "1        0.6               5.0  \n",
      "6        0.6               5.0  \n"
     ]
    }
   ],
   "source": [
    "with pd.option_context('display.max_rows', None, 'display.max_columns', None):\n",
    "    print(hp.loc[(hp['mse'] < 0.0295)])"
   ]
  }
 ],
 "metadata": {
  "anaconda-cloud": {},
  "kernelspec": {
   "display_name": "Python [default]",
   "language": "python",
   "name": "python3"
  },
  "language_info": {
   "codemirror_mode": {
    "name": "ipython",
    "version": 3
   },
   "file_extension": ".py",
   "mimetype": "text/x-python",
   "name": "python",
   "nbconvert_exporter": "python",
   "pygments_lexer": "ipython3",
   "version": "3.5.2"
  }
 },
 "nbformat": 4,
 "nbformat_minor": 2
}
