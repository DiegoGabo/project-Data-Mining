{
 "cells": [
  {
   "cell_type": "markdown",
   "metadata": {},
   "source": [
    "# Analysis"
   ]
  },
  {
   "cell_type": "code",
   "execution_count": 96,
   "metadata": {},
   "outputs": [],
   "source": [
    "import numpy as np\n",
    "import pandas as pd\n",
    "import seaborn as sns\n",
    "import matplotlib\n",
    "import matplotlib.pyplot as plt\n",
    "\n",
    "from scipy import stats\n",
    "from scipy.stats import skew\n",
    "from scipy.stats import norm\n",
    "from scipy.stats.stats import pearsonr\n",
    "\n",
    "\n",
    "%matplotlib inline\n",
    "\n",
    "df = pd.read_csv(\"dataset/train.csv\")"
   ]
  },
  {
   "cell_type": "markdown",
   "metadata": {},
   "source": [
    "A little overview"
   ]
  },
  {
   "cell_type": "code",
   "execution_count": 97,
   "metadata": {
    "scrolled": true
   },
   "outputs": [
    {
     "data": {
      "text/html": [
       "<div>\n",
       "<style scoped>\n",
       "    .dataframe tbody tr th:only-of-type {\n",
       "        vertical-align: middle;\n",
       "    }\n",
       "\n",
       "    .dataframe tbody tr th {\n",
       "        vertical-align: top;\n",
       "    }\n",
       "\n",
       "    .dataframe thead th {\n",
       "        text-align: right;\n",
       "    }\n",
       "</style>\n",
       "<table border=\"1\" class=\"dataframe\">\n",
       "  <thead>\n",
       "    <tr style=\"text-align: right;\">\n",
       "      <th></th>\n",
       "      <th>StoreID</th>\n",
       "      <th>Date</th>\n",
       "      <th>IsHoliday</th>\n",
       "      <th>IsOpen</th>\n",
       "      <th>HasPromotions</th>\n",
       "      <th>StoreType</th>\n",
       "      <th>AssortmentType</th>\n",
       "      <th>NearestCompetitor</th>\n",
       "      <th>Region</th>\n",
       "      <th>NumberOfCustomers</th>\n",
       "      <th>...</th>\n",
       "      <th>Mean_TemperatureC</th>\n",
       "      <th>Mean_VisibilityKm</th>\n",
       "      <th>Mean_Wind_SpeedKm_h</th>\n",
       "      <th>Min_Dew_PointC</th>\n",
       "      <th>Min_Humidity</th>\n",
       "      <th>Min_Sea_Level_PressurehPa</th>\n",
       "      <th>Min_TemperatureC</th>\n",
       "      <th>Min_VisibilitykM</th>\n",
       "      <th>Precipitationmm</th>\n",
       "      <th>WindDirDegrees</th>\n",
       "    </tr>\n",
       "  </thead>\n",
       "  <tbody>\n",
       "    <tr>\n",
       "      <th>0</th>\n",
       "      <td>1000</td>\n",
       "      <td>01/03/2016</td>\n",
       "      <td>0</td>\n",
       "      <td>1</td>\n",
       "      <td>0</td>\n",
       "      <td>Hyper Market</td>\n",
       "      <td>General</td>\n",
       "      <td>326</td>\n",
       "      <td>7</td>\n",
       "      <td>495</td>\n",
       "      <td>...</td>\n",
       "      <td>1</td>\n",
       "      <td>11.0</td>\n",
       "      <td>16</td>\n",
       "      <td>-2</td>\n",
       "      <td>70</td>\n",
       "      <td>1029</td>\n",
       "      <td>1</td>\n",
       "      <td>6.0</td>\n",
       "      <td>0.0</td>\n",
       "      <td>23</td>\n",
       "    </tr>\n",
       "    <tr>\n",
       "      <th>1</th>\n",
       "      <td>1000</td>\n",
       "      <td>02/03/2016</td>\n",
       "      <td>0</td>\n",
       "      <td>1</td>\n",
       "      <td>0</td>\n",
       "      <td>Hyper Market</td>\n",
       "      <td>General</td>\n",
       "      <td>326</td>\n",
       "      <td>7</td>\n",
       "      <td>608</td>\n",
       "      <td>...</td>\n",
       "      <td>3</td>\n",
       "      <td>13.0</td>\n",
       "      <td>10</td>\n",
       "      <td>-2</td>\n",
       "      <td>58</td>\n",
       "      <td>1025</td>\n",
       "      <td>1</td>\n",
       "      <td>10.0</td>\n",
       "      <td>0.0</td>\n",
       "      <td>56</td>\n",
       "    </tr>\n",
       "    <tr>\n",
       "      <th>2</th>\n",
       "      <td>1000</td>\n",
       "      <td>04/03/2016</td>\n",
       "      <td>0</td>\n",
       "      <td>1</td>\n",
       "      <td>0</td>\n",
       "      <td>Hyper Market</td>\n",
       "      <td>General</td>\n",
       "      <td>326</td>\n",
       "      <td>7</td>\n",
       "      <td>665</td>\n",
       "      <td>...</td>\n",
       "      <td>3</td>\n",
       "      <td>11.0</td>\n",
       "      <td>10</td>\n",
       "      <td>-3</td>\n",
       "      <td>55</td>\n",
       "      <td>1023</td>\n",
       "      <td>2</td>\n",
       "      <td>8.0</td>\n",
       "      <td>0.0</td>\n",
       "      <td>22</td>\n",
       "    </tr>\n",
       "  </tbody>\n",
       "</table>\n",
       "<p>3 rows × 36 columns</p>\n",
       "</div>"
      ],
      "text/plain": [
       "   StoreID        Date  IsHoliday  IsOpen  HasPromotions     StoreType  \\\n",
       "0     1000  01/03/2016          0       1              0  Hyper Market   \n",
       "1     1000  02/03/2016          0       1              0  Hyper Market   \n",
       "2     1000  04/03/2016          0       1              0  Hyper Market   \n",
       "\n",
       "  AssortmentType  NearestCompetitor  Region  NumberOfCustomers  \\\n",
       "0        General                326       7                495   \n",
       "1        General                326       7                608   \n",
       "2        General                326       7                665   \n",
       "\n",
       "        ...        Mean_TemperatureC  Mean_VisibilityKm  Mean_Wind_SpeedKm_h  \\\n",
       "0       ...                        1               11.0                   16   \n",
       "1       ...                        3               13.0                   10   \n",
       "2       ...                        3               11.0                   10   \n",
       "\n",
       "   Min_Dew_PointC  Min_Humidity Min_Sea_Level_PressurehPa  Min_TemperatureC  \\\n",
       "0              -2            70                      1029                 1   \n",
       "1              -2            58                      1025                 1   \n",
       "2              -3            55                      1023                 2   \n",
       "\n",
       "   Min_VisibilitykM  Precipitationmm  WindDirDegrees  \n",
       "0               6.0              0.0              23  \n",
       "1              10.0              0.0              56  \n",
       "2               8.0              0.0              22  \n",
       "\n",
       "[3 rows x 36 columns]"
      ]
     },
     "execution_count": 97,
     "metadata": {},
     "output_type": "execute_result"
    }
   ],
   "source": [
    "df.head(3)"
   ]
  },
  {
   "cell_type": "markdown",
   "metadata": {},
   "source": [
    "The dimension of the dataframe"
   ]
  },
  {
   "cell_type": "code",
   "execution_count": 98,
   "metadata": {},
   "outputs": [],
   "source": [
    "df.shape\n",
    "n_instances, n_features = df.shape"
   ]
  },
  {
   "cell_type": "markdown",
   "metadata": {},
   "source": [
    "So, there are **36** features and **523021** instances"
   ]
  },
  {
   "cell_type": "markdown",
   "metadata": {},
   "source": [
    "## Features\n",
    "\n",
    "The features are: \n",
    "\n",
    "\n",
    " * **StoreID** : Store ID,\n",
    " * **Date** : Observation Date,\n",
    " * **IsHoliday** : Regional Holiday,\n",
    " * **IsOpen** : Store Open,\n",
    " * **HasPromotions** : The Store is currently running promotions,\n",
    " * **StoreType** : Type of Store (Standard Market, Super Market, Hyper Market, Shopping Centre),\n",
    " * **AssortmentType** : Type of Products (General, With Fish Department, With Non-Food Department),\n",
    " * **NearestCompetitor** : Distance (meters) to the nearest competitor store,\n",
    " * **Region** : Region ID ,\n",
    " * **NumberOfCustomers** : Number of Customer,\n",
    " * **NumberOfSales** :Number of Products Sold **(Target Value)**,\n",
    " * **Region_AreaKM2** : Region Size in which the Store is located (Km<sup>2</sup>),\n",
    " * **Region_GDP** : Region Gross Domestic Product,\n",
    " * **Region_PopulationK** : Region Population Size (k),\n",
    " * **CloudCover** : LevelofCovering(0-9),\n",
    " * **Events** : Meteorological event,\n",
    " * **Max_Dew_PointC** : Max Dew Point (Celsius),\n",
    " * **Max_Gust_SpeedKm_h** : Max Gust Speed (Km/h),\n",
    " * **Max_Humidity** : Max Humidity, \n",
    " * **Max_Sea_Level_PressurehPa** : Max Pressure (hPa),\n",
    " * **Max_TemperatureC** : Max Temperature (Celsius),\n",
    " * **Max_VisibilityKm** : Max Visibility (Km),\n",
    " * **Max_Wind_SpeedKm_h** : Max Wind Speed (Km/h),\n",
    " * **Mean_Dew_PointC** : Mean Dew Point (Celsius),\n",
    " * **Mean_Humidity** : Mean Humidity,\n",
    " * **Mean_Sea_Level_PressurehPa** : Mean Pressure (hPa),\n",
    " * **Mean_TemperatureC** : Mean Temperature (Celsius),\n",
    " * **Mean_VisibilityKm** : Mean Visibility (Km),\n",
    " * **Mean_Wind_SpeedKm_h** : Mean Window Speed (Km/h),\n",
    " * **Min_Dew_PointC** : Min Dew Point (Celsius),\n",
    " * **Min_Humidity** : Min Humidity,\n",
    " * **Min_Sea_Level_PressurehPa** : Min Pressure (hPa),\n",
    " * **Min_TemperatureC** : Min Temperature (Celsius),\n",
    " * **Min_VisibilitykM** : Min Visibility (Km),\n",
    " * **Precipitationmm** : Precipitation Amount (mm),\n",
    " * **WindDirDegrees** : Window Direction (degrees).\n",
    " \n",
    " "
   ]
  },
  {
   "cell_type": "code",
   "execution_count": 99,
   "metadata": {},
   "outputs": [
    {
     "name": "stdout",
     "output_type": "stream",
     "text": [
      "4 Categorical Variables\n",
      "32 Numerical Variables\n",
      "\n"
     ]
    }
   ],
   "source": [
    "categorical_variables_mask = df.dtypes==object\n",
    "categorical_variables = df.columns[categorical_variables_mask]\n",
    "numerical_variables = df.columns[~categorical_variables_mask]\n",
    "print(\"%d Categorical Variables\\n%d Numerical Variables\\n\"%(len(categorical_variables),len(numerical_variables)))"
   ]
  },
  {
   "cell_type": "markdown",
   "metadata": {},
   "source": [
    "## Missing values\n",
    "\n",
    "The numbers of null values for each columns is:"
   ]
  },
  {
   "cell_type": "code",
   "execution_count": 100,
   "metadata": {},
   "outputs": [
    {
     "data": {
      "text/plain": [
       "Max_Gust_SpeedKm_h    78.381\n",
       "Events                23.727\n",
       "CloudCover             7.874\n",
       "Min_VisibilitykM       2.168\n",
       "Mean_VisibilityKm      2.168\n",
       "Max_VisibilityKm       2.168\n",
       "dtype: float64"
      ]
     },
     "execution_count": 100,
     "metadata": {},
     "output_type": "execute_result"
    }
   ],
   "source": [
    "missing_values = round(df.isnull().sum() / n_instances * 100, 3)\n",
    "features_with_missings = missing_values.drop(missing_values[missing_values == 0].index).sort_values(ascending=False)\n",
    "features_with_missings"
   ]
  },
  {
   "cell_type": "markdown",
   "metadata": {},
   "source": [
    "## Dealing the missing values\n",
    "\n",
    "We can try to understand what happens if we delete the instances or the rows that contain missing values.\n",
    "\n",
    "First of all we try to delete the instances that have one or more missing values."
   ]
  },
  {
   "cell_type": "code",
   "execution_count": 101,
   "metadata": {},
   "outputs": [
    {
     "name": "stdout",
     "output_type": "stream",
     "text": [
      "After cleaning, 94443 instances remain\n",
      "We loose about 81.94% percentage of instances\n"
     ]
    }
   ],
   "source": [
    "df_deleted_rows = df.dropna(axis=0)\n",
    "cleaned_rows_number = df_deleted_rows.shape[0] \n",
    "print(\"After cleaning, %d instances remain\"%cleaned_rows_number)\n",
    "percentage_lost = round(((n_instances - cleaned_rows_number) / n_instances)*100, 2)\n",
    "print(\"We loose about %.2f%% percentage of instances\" %percentage_lost)"
   ]
  },
  {
   "cell_type": "markdown",
   "metadata": {},
   "source": [
    "Now, we can try to delete the features that contain missing values. "
   ]
  },
  {
   "cell_type": "code",
   "execution_count": 102,
   "metadata": {},
   "outputs": [
    {
     "name": "stdout",
     "output_type": "stream",
     "text": [
      "After cleaning, 30 features remain\n",
      "We loose 6 features\n"
     ]
    }
   ],
   "source": [
    "df_deleted_columns = df.dropna(axis=1)\n",
    "cleaned_columns_number = df_deleted_columns.shape[1]\n",
    "print(\"After cleaning, %d features remain\"%cleaned_columns_number)\n",
    "print(\"We loose 6 features\")"
   ]
  },
  {
   "cell_type": "markdown",
   "metadata": {},
   "source": [
    "Since the deleted features are not so essential, it's convenient to use the **cleaned set of features** and **any imputation strategy should be used** for dealing with missing values."
   ]
  },
  {
   "cell_type": "markdown",
   "metadata": {},
   "source": [
    "## Data exploration\n",
    "\n",
    "First of all, we analyse the distribution of the target value, **NumberOfSales**"
   ]
  },
  {
   "cell_type": "code",
   "execution_count": 108,
   "metadata": {},
   "outputs": [
    {
     "data": {
      "text/plain": [
       "<matplotlib.axes._subplots.AxesSubplot at 0x10b47dc88>"
      ]
     },
     "execution_count": 108,
     "metadata": {},
     "output_type": "execute_result"
    },
    {
     "data": {
      "image/png": "[encoded data removed]",
      "text/plain": [
       "<matplotlib.figure.Figure at 0x10b4af6a0>"
      ]
     },
     "metadata": {},
     "output_type": "display_data"
    }
   ],
   "source": [
    "matplotlib.rcParams['figure.figsize'] = (8.0, 12.0)\n",
    "# fit the data with a normal distribution and \n",
    "sns.distplot(df['NumberOfSales'] , fit=norm)"
   ]
  },
  {
   "cell_type": "code",
   "execution_count": null,
   "metadata": {},
   "outputs": [],
   "source": []
  }
 ],
 "metadata": {
  "kernelspec": {
   "display_name": "Python 3",
   "language": "python",
   "name": "python3"
  },
  "language_info": {
   "codemirror_mode": {
    "name": "ipython",
    "version": 3
   },
   "file_extension": ".py",
   "mimetype": "text/x-python",
   "name": "python",
   "nbconvert_exporter": "python",
   "pygments_lexer": "ipython3",
   "version": "3.6.4"
  }
 },
 "nbformat": 4,
 "nbformat_minor": 2
}
