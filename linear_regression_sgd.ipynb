{
 "cells": [
  {
   "cell_type": "code",
   "execution_count": 1,
   "metadata": {},
   "outputs": [],
   "source": [
    "import warnings\n",
    "warnings.filterwarnings('ignore')\n",
    "\n",
    "import numpy as np\n",
    "import pandas as pd\n",
    "\n",
    "import time\n",
    "\n",
    "from sklearn.feature_selection import SelectFromModel\n",
    "from sklearn.linear_model.stochastic_gradient import SGDRegressor\n",
    "from sklearn.metrics import mean_squared_error\n",
    "\n",
    "from math import sqrt\n",
    "\n",
    "%matplotlib inline\n",
    "%config InlineBackend.figure_format = 'retina'"
   ]
  },
  {
   "cell_type": "code",
   "execution_count": 2,
   "metadata": {},
   "outputs": [],
   "source": [
    "#Importing dataset\n",
    "df = pd.read_csv(\"dataset/train.csv\")\n",
    "df_val = pd.read_csv(\"dataset/train_val1.csv\")"
   ]
  },
  {
   "cell_type": "code",
   "execution_count": 3,
   "metadata": {},
   "outputs": [
    {
     "name": "stdout",
     "output_type": "stream",
     "text": [
      "(334212, 43)\n",
      "(62835, 43)\n"
     ]
    }
   ],
   "source": [
    "print(df.shape)\n",
    "print(df_val.shape)"
   ]
  },
  {
   "cell_type": "markdown",
   "metadata": {},
   "source": [
    "We try to find the best number of features"
   ]
  },
  {
   "cell_type": "code",
   "execution_count": 4,
   "metadata": {},
   "outputs": [],
   "source": [
    "y = df['NumberOfSales']\n",
    "y_val = df_val['NumberOfSales']\n",
    "X = df.drop(['NumberOfSales'], axis=1)\n",
    "X_val = df_val.drop(['NumberOfSales'], axis=1)"
   ]
  },
  {
   "cell_type": "code",
   "execution_count": 5,
   "metadata": {},
   "outputs": [],
   "source": [
    "dict_df = {'loss_function' : [], 'alpha' : [], 'epsilon' : [], 'learning_rate' : [], 'var_threshold' : [],'num_feat' : [], 'mse' : []}"
   ]
  },
  {
   "cell_type": "code",
   "execution_count": null,
   "metadata": {},
   "outputs": [],
   "source": [
    "loss_fun = ['squared_loss']\n",
    "learning_r = ['constant', 'optimal', 'invascaling']\n",
    "\n",
    "start = time.time()\n",
    "\n",
    "for l_f in loss_fun:\n",
    "    for l_r in learning_r:\n",
    "        for a in np.arange(.0001, .01 , .0001):\n",
    "            for e in np.arange(.1, .5, .1):\n",
    "                sgd = SGDRegressor(loss=l_f, alpha=a, epsilon=e, learning_rate=l_r, shuffle=False, random_state=1234567890)\n",
    "                dict_df['loss_function'].append(l_f)\n",
    "                dict_df['alpha'].append(a)\n",
    "                dict_df['epsilon'].append(e)\n",
    "                dict_df['learning_rate'].append(l_r)\n",
    "                for v in np.arange(.001, .03, .0005):\n",
    "                    sfm = SelectFromModel(sgd, threshold=v)\n",
    "                    sfm.fit(X, y)\n",
    "                    n_features = sfm.transform(X).shape[1]\n",
    "                    dict_df['var_threshold'].append(v)\n",
    "                    dict_df['num_feat'].append(n_features)\n",
    "                    if n_features == 0:\n",
    "                        dict_df['mse'].append(99999999999999999)\n",
    "                    else:\n",
    "                        mask = sfm.get_support()\n",
    "                        X_mask = X.loc[:, mask]\n",
    "                        X_val_mask = X_val.loc[:, mask]\n",
    "                        sgd.fit(X_mask, y)\n",
    "                        y_pred=sgd.predict(X_val_mask)\n",
    "                        dict_df['mse'].append(sqrt(mean_squared_error(y_val,y_pred)))\n",
    "            \n",
    "end = time.time() - start\n",
    "end"
   ]
  },
  {
   "cell_type": "code",
   "execution_count": null,
   "metadata": {},
   "outputs": [],
   "source": [
    "pd.DataFrame(dict_df).to_csv(\"res_sgd_1.csv\")"
   ]
  }
 ],
 "metadata": {
  "kernelspec": {
   "display_name": "Python 3",
   "language": "python",
   "name": "python3"
  },
  "language_info": {
   "codemirror_mode": {
    "name": "ipython",
    "version": 3
   },
   "file_extension": ".py",
   "mimetype": "text/x-python",
   "name": "python",
   "nbconvert_exporter": "python",
   "pygments_lexer": "ipython3",
   "version": "3.6.0"
  }
 },
 "nbformat": 4,
 "nbformat_minor": 2
}
