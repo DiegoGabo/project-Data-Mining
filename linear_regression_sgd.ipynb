{
 "cells": [
  {
   "cell_type": "code",
   "execution_count": 15,
   "metadata": {},
   "outputs": [],
   "source": [
    "import warnings\n",
    "warnings.filterwarnings('ignore')\n",
    "\n",
    "import numpy as np\n",
    "import pandas as pd\n",
    "\n",
    "import time\n",
    "\n",
    "from sklearn.feature_selection import SelectFromModel\n",
    "from sklearn.linear_model.stochastic_gradient import SGDRegressor\n",
    "from sklearn.metrics import mean_squared_error\n",
    "\n",
    "from math import sqrt\n",
    "\n",
    "%matplotlib inline\n",
    "%config InlineBackend.figure_format = 'retina'"
   ]
  },
  {
   "cell_type": "code",
   "execution_count": 2,
   "metadata": {},
   "outputs": [],
   "source": [
    "#Importing dataset\n",
    "df = pd.read_csv(\"dataset/train_processed.csv\")"
   ]
  },
  {
   "cell_type": "code",
   "execution_count": 3,
   "metadata": {},
   "outputs": [
    {
     "data": {
      "text/plain": [
       "(501300, 49)"
      ]
     },
     "execution_count": 3,
     "metadata": {},
     "output_type": "execute_result"
    }
   ],
   "source": [
    "df.shape"
   ]
  },
  {
   "cell_type": "markdown",
   "metadata": {},
   "source": [
    "We normalize the data so that all values are between 0 and 1. So we first remove 'Date' which is the only non numerical attribute. Then we apply range normalization and at the end we add 'Date'. "
   ]
  },
  {
   "cell_type": "code",
   "execution_count": 4,
   "metadata": {},
   "outputs": [
    {
     "data": {
      "text/html": [
       "<div>\n",
       "<style scoped>\n",
       "    .dataframe tbody tr th:only-of-type {\n",
       "        vertical-align: middle;\n",
       "    }\n",
       "\n",
       "    .dataframe tbody tr th {\n",
       "        vertical-align: top;\n",
       "    }\n",
       "\n",
       "    .dataframe thead th {\n",
       "        text-align: right;\n",
       "    }\n",
       "</style>\n",
       "<table border=\"1\" class=\"dataframe\">\n",
       "  <thead>\n",
       "    <tr style=\"text-align: right;\">\n",
       "      <th></th>\n",
       "      <th>Unnamed: 0</th>\n",
       "      <th>StoreID</th>\n",
       "      <th>IsHoliday</th>\n",
       "      <th>IsOpen</th>\n",
       "      <th>HasPromotions</th>\n",
       "      <th>StoreType</th>\n",
       "      <th>NearestCompetitor</th>\n",
       "      <th>NumberOfCustomers</th>\n",
       "      <th>NumberOfSales</th>\n",
       "      <th>Region_AreaKM2</th>\n",
       "      <th>...</th>\n",
       "      <th>Thunderstorm</th>\n",
       "      <th>IsSaturday</th>\n",
       "      <th>IsSunday</th>\n",
       "      <th>WasOpenYesterday</th>\n",
       "      <th>IsOpenTomorrow</th>\n",
       "      <th>YesterdaySales</th>\n",
       "      <th>Previous3DaysSales</th>\n",
       "      <th>PreviousWeekSales</th>\n",
       "      <th>PreviousMonthSales</th>\n",
       "      <th>Date</th>\n",
       "    </tr>\n",
       "  </thead>\n",
       "  <tbody>\n",
       "    <tr>\n",
       "      <th>0</th>\n",
       "      <td>0.000000</td>\n",
       "      <td>0.0</td>\n",
       "      <td>0.0</td>\n",
       "      <td>1.0</td>\n",
       "      <td>1.0</td>\n",
       "      <td>0.666667</td>\n",
       "      <td>0.003281</td>\n",
       "      <td>0.383500</td>\n",
       "      <td>0.446943</td>\n",
       "      <td>0.291715</td>\n",
       "      <td>...</td>\n",
       "      <td>0.0</td>\n",
       "      <td>0.0</td>\n",
       "      <td>0.0</td>\n",
       "      <td>1.0</td>\n",
       "      <td>0.0</td>\n",
       "      <td>0.339890</td>\n",
       "      <td>0.363301</td>\n",
       "      <td>0.355788</td>\n",
       "      <td>0.372606</td>\n",
       "      <td>2016-03-31</td>\n",
       "    </tr>\n",
       "    <tr>\n",
       "      <th>1</th>\n",
       "      <td>0.000002</td>\n",
       "      <td>0.0</td>\n",
       "      <td>1.0</td>\n",
       "      <td>0.0</td>\n",
       "      <td>1.0</td>\n",
       "      <td>0.666667</td>\n",
       "      <td>0.003281</td>\n",
       "      <td>0.000000</td>\n",
       "      <td>0.000000</td>\n",
       "      <td>0.291715</td>\n",
       "      <td>...</td>\n",
       "      <td>0.0</td>\n",
       "      <td>0.0</td>\n",
       "      <td>0.0</td>\n",
       "      <td>1.0</td>\n",
       "      <td>1.0</td>\n",
       "      <td>0.446943</td>\n",
       "      <td>0.409861</td>\n",
       "      <td>0.384367</td>\n",
       "      <td>0.384941</td>\n",
       "      <td>2016-04-01</td>\n",
       "    </tr>\n",
       "    <tr>\n",
       "      <th>2</th>\n",
       "      <td>0.000004</td>\n",
       "      <td>0.0</td>\n",
       "      <td>0.0</td>\n",
       "      <td>1.0</td>\n",
       "      <td>0.0</td>\n",
       "      <td>0.666667</td>\n",
       "      <td>0.003281</td>\n",
       "      <td>0.385766</td>\n",
       "      <td>0.417740</td>\n",
       "      <td>0.291715</td>\n",
       "      <td>...</td>\n",
       "      <td>0.0</td>\n",
       "      <td>1.0</td>\n",
       "      <td>0.0</td>\n",
       "      <td>0.0</td>\n",
       "      <td>0.0</td>\n",
       "      <td>0.000000</td>\n",
       "      <td>0.290735</td>\n",
       "      <td>0.326042</td>\n",
       "      <td>0.368885</td>\n",
       "      <td>2016-04-02</td>\n",
       "    </tr>\n",
       "    <tr>\n",
       "      <th>3</th>\n",
       "      <td>0.000006</td>\n",
       "      <td>0.0</td>\n",
       "      <td>0.0</td>\n",
       "      <td>0.0</td>\n",
       "      <td>0.0</td>\n",
       "      <td>0.666667</td>\n",
       "      <td>0.003281</td>\n",
       "      <td>0.000000</td>\n",
       "      <td>0.000000</td>\n",
       "      <td>0.291715</td>\n",
       "      <td>...</td>\n",
       "      <td>0.0</td>\n",
       "      <td>0.0</td>\n",
       "      <td>1.0</td>\n",
       "      <td>1.0</td>\n",
       "      <td>0.0</td>\n",
       "      <td>0.417740</td>\n",
       "      <td>0.319501</td>\n",
       "      <td>0.363920</td>\n",
       "      <td>0.377885</td>\n",
       "      <td>2016-04-03</td>\n",
       "    </tr>\n",
       "    <tr>\n",
       "      <th>4</th>\n",
       "      <td>0.000008</td>\n",
       "      <td>0.0</td>\n",
       "      <td>1.0</td>\n",
       "      <td>0.0</td>\n",
       "      <td>0.0</td>\n",
       "      <td>0.666667</td>\n",
       "      <td>0.003281</td>\n",
       "      <td>0.000000</td>\n",
       "      <td>0.000000</td>\n",
       "      <td>0.291715</td>\n",
       "      <td>...</td>\n",
       "      <td>0.0</td>\n",
       "      <td>0.0</td>\n",
       "      <td>0.0</td>\n",
       "      <td>0.0</td>\n",
       "      <td>1.0</td>\n",
       "      <td>0.000000</td>\n",
       "      <td>0.154355</td>\n",
       "      <td>0.363920</td>\n",
       "      <td>0.362002</td>\n",
       "      <td>2016-04-04</td>\n",
       "    </tr>\n",
       "  </tbody>\n",
       "</table>\n",
       "<p>5 rows × 49 columns</p>\n",
       "</div>"
      ],
      "text/plain": [
       "   Unnamed: 0  StoreID  IsHoliday  IsOpen  HasPromotions  StoreType  \\\n",
       "0    0.000000      0.0        0.0     1.0            1.0   0.666667   \n",
       "1    0.000002      0.0        1.0     0.0            1.0   0.666667   \n",
       "2    0.000004      0.0        0.0     1.0            0.0   0.666667   \n",
       "3    0.000006      0.0        0.0     0.0            0.0   0.666667   \n",
       "4    0.000008      0.0        1.0     0.0            0.0   0.666667   \n",
       "\n",
       "   NearestCompetitor  NumberOfCustomers  NumberOfSales  Region_AreaKM2  \\\n",
       "0           0.003281           0.383500       0.446943        0.291715   \n",
       "1           0.003281           0.000000       0.000000        0.291715   \n",
       "2           0.003281           0.385766       0.417740        0.291715   \n",
       "3           0.003281           0.000000       0.000000        0.291715   \n",
       "4           0.003281           0.000000       0.000000        0.291715   \n",
       "\n",
       "      ...      Thunderstorm  IsSaturday  IsSunday  WasOpenYesterday  \\\n",
       "0     ...               0.0         0.0       0.0               1.0   \n",
       "1     ...               0.0         0.0       0.0               1.0   \n",
       "2     ...               0.0         1.0       0.0               0.0   \n",
       "3     ...               0.0         0.0       1.0               1.0   \n",
       "4     ...               0.0         0.0       0.0               0.0   \n",
       "\n",
       "   IsOpenTomorrow  YesterdaySales  Previous3DaysSales  PreviousWeekSales  \\\n",
       "0             0.0        0.339890            0.363301           0.355788   \n",
       "1             1.0        0.446943            0.409861           0.384367   \n",
       "2             0.0        0.000000            0.290735           0.326042   \n",
       "3             0.0        0.417740            0.319501           0.363920   \n",
       "4             1.0        0.000000            0.154355           0.363920   \n",
       "\n",
       "   PreviousMonthSales        Date  \n",
       "0            0.372606  2016-03-31  \n",
       "1            0.384941  2016-04-01  \n",
       "2            0.368885  2016-04-02  \n",
       "3            0.377885  2016-04-03  \n",
       "4            0.362002  2016-04-04  \n",
       "\n",
       "[5 rows x 49 columns]"
      ]
     },
     "execution_count": 4,
     "metadata": {},
     "output_type": "execute_result"
    }
   ],
   "source": [
    "df_date=df['Date']\n",
    "df_no_date=df.drop(['Date'], axis=1)\n",
    "df_norm= (df_no_date - df_no_date.min()) / (df_no_date.max() - df_no_date.min())\n",
    "df=df_norm\n",
    "df['Date']=df_date\n",
    "df.head(5)"
   ]
  },
  {
   "cell_type": "markdown",
   "metadata": {},
   "source": [
    "We split the dataset in 4 parts:\n",
    "* df_train: the training set (all the rows before 2017-09-01). We use it to train our model.\n",
    "* df_val1: the first validation set (all the rows between 2017-09-01 and 2017-11-01). We use it to tune the hyperparameter of our model.\n",
    "* df_val2: the second validation set (all the rows between 2017-11-01 and 2018-01-01). We use it to select the best model.\n",
    "* df_val3: the third validation set (all the rows after 2018-01-01). We use it to check that our final model works properly."
   ]
  },
  {
   "cell_type": "code",
   "execution_count": 5,
   "metadata": {},
   "outputs": [],
   "source": [
    "df_val3=df.loc[(df['Date']>='2018-01-01')]\n",
    "df_val3_rest=df.loc[(df['Date']<'2018-01-01')]\n",
    "df_val2=df_val3_rest.loc[(df_val3_rest['Date']>='2017-11-01')]\n",
    "df_val2_rest=df.loc[(df['Date']<'2017-11-01')]\n",
    "df_val1=df_val2_rest.loc[(df_val2_rest['Date']>='2017-09-01')]\n",
    "df_train=df.loc[(df['Date']<'2017-09-01')]"
   ]
  },
  {
   "cell_type": "markdown",
   "metadata": {},
   "source": [
    "We remove 'Date' from our set because it is only used as index"
   ]
  },
  {
   "cell_type": "code",
   "execution_count": 6,
   "metadata": {},
   "outputs": [],
   "source": [
    "df_train_clear=df_train.drop(['Date'], axis=1)\n",
    "df_val1_clear=df_val1.drop(['Date'], axis=1)\n",
    "df_val2_clear=df_val2.drop(['Date'], axis=1)\n",
    "df_val3_clear=df_val3.drop(['Date'], axis=1)"
   ]
  },
  {
   "cell_type": "markdown",
   "metadata": {},
   "source": [
    "We try to find the best number of features"
   ]
  },
  {
   "cell_type": "code",
   "execution_count": 41,
   "metadata": {},
   "outputs": [],
   "source": [
    "y=df_train_clear['NumberOfSales']\n",
    "y_val1=df_val1_clear['NumberOfSales']\n",
    "y_val2=df_val2_clear['NumberOfSales']\n",
    "y_val3=df_val3_clear['NumberOfSales']"
   ]
  },
  {
   "cell_type": "code",
   "execution_count": 49,
   "metadata": {},
   "outputs": [],
   "source": [
    "X_t = df_train_clear.loc[df_train_clear['StoreID'] == 0.0]\n",
    "y_t = X_t['NumberOfSales']\n",
    "y_val_t = df_val1_clear.loc[df_val1_clear['StoreID'] == 0.0]['NumberOfSales']\n",
    "X_t = X_t.drop(['StoreID','NumberOfSales','NumberOfCustomers','YesterdaySales','Previous3DaysSales','PreviousWeekSales','PreviousMonthSales'], axis=1)"
   ]
  },
  {
   "cell_type": "code",
   "execution_count": 51,
   "metadata": {},
   "outputs": [
    {
     "data": {
      "text/plain": [
       "(61,)"
      ]
     },
     "execution_count": 51,
     "metadata": {},
     "output_type": "execute_result"
    }
   ],
   "source": [
    "y_val_t.shape"
   ]
  },
  {
   "cell_type": "code",
   "execution_count": 22,
   "metadata": {},
   "outputs": [],
   "source": [
    "X=df_train_clear.drop(['StoreID','NumberOfSales','NumberOfCustomers','YesterdaySales','Previous3DaysSales','PreviousWeekSales','PreviousMonthSales'], axis=1)\n",
    "X_val1=df_val1_clear.drop(['StoreID','NumberOfSales','NumberOfCustomers','YesterdaySales','Previous3DaysSales','PreviousWeekSales','PreviousMonthSales'], axis=1)\n",
    "X_val2=df_val2_clear.drop(['StoreID','NumberOfSales','NumberOfCustomers','YesterdaySales','Previous3DaysSales','PreviousWeekSales','PreviousMonthSales'], axis=1)\n",
    "X_val3=df_val3_clear.drop(['StoreID','NumberOfSales','NumberOfCustomers','YesterdaySales','Previous3DaysSales','PreviousWeekSales','PreviousMonthSales'], axis=1)"
   ]
  },
  {
   "cell_type": "code",
   "execution_count": 14,
   "metadata": {},
   "outputs": [],
   "source": [
    "dict_df = {'loss_function' : [], 'alpha' : [], 'epsilon' : [], 'learning_rate' : [], 'var_threshold' : [],'num_feat' : [], 'mse' : []}"
   ]
  },
  {
   "cell_type": "code",
   "execution_count": 36,
   "metadata": {},
   "outputs": [
    {
     "data": {
      "text/plain": [
       "41"
      ]
     },
     "execution_count": 36,
     "metadata": {},
     "output_type": "execute_result"
    }
   ],
   "source": [
    "sfm = SelectFromModel(sgd, threshold=0.03)\n",
    "sfm.fit(X, y)\n",
    "sfm.transform(X).shape[1]"
   ]
  },
  {
   "cell_type": "code",
   "execution_count": null,
   "metadata": {},
   "outputs": [],
   "source": [
    "loss_fun = ['squared_loss', 'epsilon_insensitive']\n",
    "learning_r = ['constant', 'optimal', 'invascaling']\n",
    "\n",
    "start = time.time()\n",
    "\n",
    "for l_f in loss_strategy:\n",
    "    for l_r in learning_rate:\n",
    "        for a in np.arange(.0001, .01 , .0001):\n",
    "            for e in np.arange(.1, .5, .1):\n",
    "                sgd = SGDRegressor(loss_function=l_f, alpha=a, epsilon=e, learning_rate=l_r, shuffle=False, random_state=1234567890)\n",
    "                dict_df['loss_function'].append(l_f)\n",
    "                dict_df['alpha'].append(a)\n",
    "                dict_df['epsilon'].append(e)\n",
    "                dict_df['learning_rate'].append(l_r)\n",
    "                for v in np.arange(.001, .03, .0005):\n",
    "                    sfm = SelectFromModel(sgd, threshold=v)\n",
    "                    sfm.fit(X, y)\n",
    "                    n_features = sfm.transform(X).shape[1]\n",
    "                    dict_df['var_threshold'].append(v)\n",
    "                    dict_df['num_feat'].append(n_features)\n",
    "                    if n_features == 0:\n",
    "                        dict_df['mse'].append(99999999999999999)\n",
    "                    else:\n",
    "                        mask = sfm.get_support()\n",
    "                        X_mask = X.loc[:, mask]\n",
    "                        X_val1_mask = X_val1.loc[:, mask]\n",
    "                        lasso.fit(X_mask, y)\n",
    "                        y_pred=lasso.predict(X_val1_mask)\n",
    "                        dict_df['mse'].append(sqrt(mean_squared_error(y_val1,y_pred)))\n",
    "            \n",
    "end = time.time() - start\n",
    "end"
   ]
  }
 ],
 "metadata": {
  "kernelspec": {
   "display_name": "Python 3",
   "language": "python",
   "name": "python3"
  },
  "language_info": {
   "codemirror_mode": {
    "name": "ipython",
    "version": 3
   },
   "file_extension": ".py",
   "mimetype": "text/x-python",
   "name": "python",
   "nbconvert_exporter": "python",
   "pygments_lexer": "ipython3",
   "version": "3.6.0"
  }
 },
 "nbformat": 4,
 "nbformat_minor": 2
}
