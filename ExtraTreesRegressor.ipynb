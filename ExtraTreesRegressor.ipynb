{
 "cells": [
  {
   "cell_type": "code",
   "execution_count": 1,
   "metadata": {
    "collapsed": true
   },
   "outputs": [],
   "source": [
    "#Importing library\n",
    "\n",
    "import numpy as np\n",
    "import pandas as pd\n",
    "import seaborn as sns\n",
    "import matplotlib\n",
    "import matplotlib.pyplot as plt\n",
    "import datetime\n",
    "\n",
    "from scipy import stats\n",
    "from scipy.stats import skew\n",
    "from scipy.stats import norm\n",
    "from scipy.stats.stats import pearsonr\n",
    "from sklearn.ensemble import RandomForestRegressor\n",
    "from sklearn.datasets import make_regression\n",
    "from sklearn.ensemble import ExtraTreesRegressor\n",
    "from sklearn.metrics import mean_squared_error\n",
    "from sklearn.metrics import mean_absolute_error\n",
    "from math import sqrt\n",
    "\n",
    "\n",
    "%matplotlib inline\n",
    "%config InlineBackend.figure_format = 'retina'"
   ]
  },
  {
   "cell_type": "code",
   "execution_count": 2,
   "metadata": {
    "collapsed": true
   },
   "outputs": [],
   "source": [
    "#Importing dataset\n",
    "df = pd.read_csv(\"dataset/train_small.csv\")\n",
    "df_val = pd.read_csv(\"dataset/train_val1.csv\")"
   ]
  },
  {
   "cell_type": "code",
   "execution_count": 6,
   "metadata": {
    "collapsed": true
   },
   "outputs": [],
   "source": [
    "y = df['NumberOfSales']\n",
    "y_val1 = df_val['NumberOfSales']"
   ]
  },
  {
   "cell_type": "code",
   "execution_count": 10,
   "metadata": {},
   "outputs": [],
   "source": [
    "X = df.drop(['NumberOfCustomers', 'NumberOfSales'], axis=1)\n",
    "X_val = df_val.drop(['NumberOfCustomers', 'NumberOfSales'], axis=1)"
   ]
  },
  {
   "cell_type": "code",
   "execution_count": 13,
   "metadata": {},
   "outputs": [
    {
     "name": "stdout",
     "output_type": "stream",
     "text": [
      "IsHoliday 0.027461465475176503 0.0192611161096\n",
      "HasPromotions 0.04003863317247128 0.029766546966\n",
      "StoreType 0.027824418374292902 0.0196920401725\n",
      "NearestCompetitor 0.027584527895542416 0.0195318982325\n",
      "Region_AreaKM2 0.027287162569294057 0.0192372364336\n",
      "Region_GDP 0.027523689189593494 0.0194295830634\n",
      "Region_PopulationK 0.027428748102158052 0.0193894669588\n",
      "CloudCover 0.02733722499481307 0.0192063738651\n",
      "Max_Dew_PointC 0.02734089359584064 0.0192392218557\n",
      "Max_Gust_SpeedKm_h 0.02725703009834444 0.0191719622117\n",
      "Max_Humidity 0.027307794024024164 0.0191720375717\n",
      "Max_Sea_Level_PressurehPa 0.027238982352806453 0.0191068415829\n",
      "Max_TemperatureC 0.027197144724387872 0.0190890521565\n",
      "Max_VisibilityKm 0.027483600412522943 0.0193079902133\n",
      "Max_Wind_SpeedKm_h 0.027304641339577194 0.0192076982416\n",
      "Mean_Dew_PointC 0.027335722822490284 0.0192455729875\n",
      "Mean_Humidity 0.027260259474371412 0.0191488758657\n",
      "Mean_Sea_Level_PressurehPa 0.027213049351888646 0.0191415247333\n",
      "Mean_TemperatureC 0.027269236731764512 0.0191657947449\n",
      "Mean_VisibilityKm 0.027406705419735052 0.0192643655426\n",
      "Mean_Wind_SpeedKm_h 0.02727299807713253 0.0191596730741\n",
      "Min_Dew_PointC 0.027362512952677182 0.0192436223025\n",
      "Min_Humidity 0.02728539811226626 0.0191673468957\n",
      "Min_Sea_Level_PressurehPa 0.02721954371874126 0.0191245727561\n",
      "Min_TemperatureC 0.027338797874671618 0.0192465245755\n",
      "Min_VisibilitykM 0.02714203031140611 0.0190631585227\n",
      "Precipitationmm 0.027256540403540856 0.0191327427223\n",
      "WindDirDegrees 0.027328467661340818 0.0192622508747\n",
      "AssortmentType_With Fish Department 0.02728386159875894 0.0191857183292\n",
      "AssortmentType_With Non-Food Department 0.027813581190119497 0.0197255356071\n",
      "Rain 0.02731586852901611 0.0191710597015\n",
      "Snow 0.027322724812975385 0.0192568472793\n",
      "Fog 0.027301383779820165 0.0192336420648\n",
      "Hail 0.027286380618007096 0.01919812971\n",
      "Thunderstorm 0.02736712631215594 0.019228356041\n",
      "IsSaturday 0.027678034152288387 0.0196219312509\n",
      "IsSunday 0.028126080501693303 0.0195136724196\n",
      "WasOpenYesterday 0.03167365049908015 0.0223334353932\n",
      "IsOpenTomorrow 0.02759745485766599 0.0194780934861\n",
      "MeanMonthSales 0.027121560150161705 0.0191170739796\n",
      "MeanStoreSales 0.04366230079060289 0.0313677711262\n"
     ]
    }
   ],
   "source": [
    "nt=201\n",
    "na=12\n",
    "depth=21\n",
    "\n",
    "feature_names = list(X.columns)\n",
    "\n",
    "while len(feature_names) > 12:\n",
    "    feature_best = ''\n",
    "    mse_best = 10000000\n",
    "    mae_best = 10000000\n",
    "    \n",
    "    for feature in feature_names:\n",
    "        X_f = X.drop([feature])\n",
    "        X_val_f = X_val.drop([feature])\n",
    "\n",
    "        forest = ExtraTreesRegressor(max_depth=depth, random_state=1234567890, n_estimators=nt, max_features=na, n_jobs=-1)\n",
    "        forest.fit(X_f, y)\n",
    "\n",
    "        y_pred = forest.predict(X_val_f)\n",
    "\n",
    "        mse = sqrt(mean_squared_error(y_val, y_pred))\n",
    "        mae = mean_absolute_error(y_val, y_pred)\n",
    "\n",
    "        print(feature, mse, mae)\n",
    "        \n",
    "        if( mae < mae_best ):\n",
    "            feature_best = feature\n",
    "            mae_best = mae\n",
    "            mse_best = mse\n",
    "    \n",
    "    feature_names.remove(feature_best)"
   ]
  },
  {
   "cell_type": "code",
   "execution_count": 19,
   "metadata": {},
   "outputs": [
    {
     "name": "stdout",
     "output_type": "stream",
     "text": [
      "MeanStoreSales 0.027027313318870694 0.0189201107117\n"
     ]
    }
   ],
   "source": [
    "worseFeatures = ['Min_VisibilitykM', 'Max_TemperatureC']\n",
    "nt=201\n",
    "na=12\n",
    "depth=21\n",
    "\n",
    "X=df_train_clear.drop(['StoreID','NumberOfSales','NumberOfCustomers'], axis=1)\n",
    "X_val1=df_val1_clear.drop(['StoreID','NumberOfSales','NumberOfCustomers'], axis=1)\n",
    "X=X.drop(worseFeatures, axis=1)\n",
    "X_val1=X_val1.drop(worseFeatures, axis=1)\n",
    "forest = ExtraTreesRegressor(max_depth=depth, random_state=0, n_estimators=nt, max_features=na, n_jobs=-1)\n",
    "forest.fit(X, y)\n",
    "y_pred=forest.predict(X_val1)\n",
    "mse_val1=mean_squared_error(y_val1,y_pred)\n",
    "mae_val1=mean_absolute_error(y_val1,y_pred)\n",
    "print(feature, sqrt(mse_val1), mae_val1)"
   ]
  },
  {
   "cell_type": "code",
   "execution_count": null,
   "metadata": {
    "collapsed": true
   },
   "outputs": [],
   "source": []
  }
 ],
 "metadata": {
  "anaconda-cloud": {},
  "kernelspec": {
   "display_name": "Python 3",
   "language": "python",
   "name": "python3"
  },
  "language_info": {
   "codemirror_mode": {
    "name": "ipython",
    "version": 3
   },
   "file_extension": ".py",
   "mimetype": "text/x-python",
   "name": "python",
   "nbconvert_exporter": "python",
   "pygments_lexer": "ipython3",
   "version": "3.6.0"
  }
 },
 "nbformat": 4,
 "nbformat_minor": 2
}
