{
 "cells": [
  {
   "cell_type": "code",
   "execution_count": 3,
   "metadata": {
    "collapsed": true
   },
   "outputs": [],
   "source": [
    "#Importing library\n",
    "\n",
    "import numpy as np\n",
    "import pandas as pd\n",
    "import seaborn as sns\n",
    "import matplotlib\n",
    "import matplotlib.pyplot as plt\n",
    "\n",
    "from scipy import stats\n",
    "from scipy.stats import skew\n",
    "from scipy.stats import norm\n",
    "from scipy.stats.stats import pearsonr\n",
    "\n",
    "\n",
    "%matplotlib inline\n",
    "%config InlineBackend.figure_format = 'retina'"
   ]
  },
  {
   "cell_type": "code",
   "execution_count": 4,
   "metadata": {
    "collapsed": true
   },
   "outputs": [],
   "source": [
    "#Importing dataset\n",
    "\n",
    "df = pd.read_csv(\"dataset/train.csv\")"
   ]
  },
  {
   "cell_type": "code",
   "execution_count": 14,
   "metadata": {},
   "outputs": [
    {
     "name": "stdout",
     "output_type": "stream",
     "text": [
      "Before cleaning, number of features 36\n",
      "After cleaning, 33 features remain\n"
     ]
    }
   ],
   "source": [
    "print(\"Before cleaning, number of features %d\"%df.shape[1])\n",
    "df_no_attrib=df.drop(['StoreID', 'Max_Gust_SpeedKm_h', 'Events'], axis=1)\n",
    "print(\"After cleaning, %d features remain\"%df_no_attrib.shape[1])"
   ]
  },
  {
   "cell_type": "code",
   "execution_count": 16,
   "metadata": {},
   "outputs": [
    {
     "name": "stdout",
     "output_type": "stream",
     "text": [
      "The number of istances are: 523021\n",
      "The number of istances left are: 480341\n"
     ]
    }
   ],
   "source": [
    "print(\"The number of istances are: %d\"%df.shape[0])\n",
    "df_deleted_rows = df_no_attrib.dropna(axis=0)\n",
    "print(\"The number of istances left are: %d\"%df_deleted_rows.shape[0])"
   ]
  },
  {
   "cell_type": "code",
   "execution_count": 29,
   "metadata": {},
   "outputs": [
    {
     "name": "stdout",
     "output_type": "stream",
     "text": [
      "After cleaning, 30 features remain\n"
     ]
    },
    {
     "data": {
      "text/html": [
       "<div>\n",
       "<style scoped>\n",
       "    .dataframe tbody tr th:only-of-type {\n",
       "        vertical-align: middle;\n",
       "    }\n",
       "\n",
       "    .dataframe tbody tr th {\n",
       "        vertical-align: top;\n",
       "    }\n",
       "\n",
       "    .dataframe thead th {\n",
       "        text-align: right;\n",
       "    }\n",
       "</style>\n",
       "<table border=\"1\" class=\"dataframe\">\n",
       "  <thead>\n",
       "    <tr style=\"text-align: right;\">\n",
       "      <th></th>\n",
       "      <th>IsHoliday</th>\n",
       "      <th>IsOpen</th>\n",
       "      <th>HasPromotions</th>\n",
       "      <th>NearestCompetitor</th>\n",
       "      <th>Region</th>\n",
       "      <th>NumberOfCustomers</th>\n",
       "      <th>NumberOfSales</th>\n",
       "      <th>Region_AreaKM2</th>\n",
       "      <th>Region_GDP</th>\n",
       "      <th>Region_PopulationK</th>\n",
       "      <th>...</th>\n",
       "      <th>Mean_TemperatureC</th>\n",
       "      <th>Mean_VisibilityKm</th>\n",
       "      <th>Mean_Wind_SpeedKm_h</th>\n",
       "      <th>Min_Dew_PointC</th>\n",
       "      <th>Min_Humidity</th>\n",
       "      <th>Min_Sea_Level_PressurehPa</th>\n",
       "      <th>Min_TemperatureC</th>\n",
       "      <th>Min_VisibilitykM</th>\n",
       "      <th>Precipitationmm</th>\n",
       "      <th>WindDirDegrees</th>\n",
       "    </tr>\n",
       "  </thead>\n",
       "  <tbody>\n",
       "    <tr>\n",
       "      <th>0</th>\n",
       "      <td>0</td>\n",
       "      <td>1</td>\n",
       "      <td>0</td>\n",
       "      <td>326</td>\n",
       "      <td>7</td>\n",
       "      <td>495</td>\n",
       "      <td>5676</td>\n",
       "      <td>9643</td>\n",
       "      <td>17130</td>\n",
       "      <td>2770</td>\n",
       "      <td>...</td>\n",
       "      <td>1</td>\n",
       "      <td>11.0</td>\n",
       "      <td>16</td>\n",
       "      <td>-2</td>\n",
       "      <td>70</td>\n",
       "      <td>1029</td>\n",
       "      <td>1</td>\n",
       "      <td>6.0</td>\n",
       "      <td>0.0</td>\n",
       "      <td>23</td>\n",
       "    </tr>\n",
       "    <tr>\n",
       "      <th>1</th>\n",
       "      <td>0</td>\n",
       "      <td>1</td>\n",
       "      <td>0</td>\n",
       "      <td>326</td>\n",
       "      <td>7</td>\n",
       "      <td>608</td>\n",
       "      <td>8111</td>\n",
       "      <td>9643</td>\n",
       "      <td>17130</td>\n",
       "      <td>2770</td>\n",
       "      <td>...</td>\n",
       "      <td>3</td>\n",
       "      <td>13.0</td>\n",
       "      <td>10</td>\n",
       "      <td>-2</td>\n",
       "      <td>58</td>\n",
       "      <td>1025</td>\n",
       "      <td>1</td>\n",
       "      <td>10.0</td>\n",
       "      <td>0.0</td>\n",
       "      <td>56</td>\n",
       "    </tr>\n",
       "    <tr>\n",
       "      <th>2</th>\n",
       "      <td>0</td>\n",
       "      <td>1</td>\n",
       "      <td>0</td>\n",
       "      <td>326</td>\n",
       "      <td>7</td>\n",
       "      <td>665</td>\n",
       "      <td>8300</td>\n",
       "      <td>9643</td>\n",
       "      <td>17130</td>\n",
       "      <td>2770</td>\n",
       "      <td>...</td>\n",
       "      <td>3</td>\n",
       "      <td>11.0</td>\n",
       "      <td>10</td>\n",
       "      <td>-3</td>\n",
       "      <td>55</td>\n",
       "      <td>1023</td>\n",
       "      <td>2</td>\n",
       "      <td>8.0</td>\n",
       "      <td>0.0</td>\n",
       "      <td>22</td>\n",
       "    </tr>\n",
       "    <tr>\n",
       "      <th>3</th>\n",
       "      <td>0</td>\n",
       "      <td>1</td>\n",
       "      <td>0</td>\n",
       "      <td>326</td>\n",
       "      <td>7</td>\n",
       "      <td>630</td>\n",
       "      <td>7154</td>\n",
       "      <td>9643</td>\n",
       "      <td>17130</td>\n",
       "      <td>2770</td>\n",
       "      <td>...</td>\n",
       "      <td>3</td>\n",
       "      <td>15.0</td>\n",
       "      <td>10</td>\n",
       "      <td>-6</td>\n",
       "      <td>25</td>\n",
       "      <td>1022</td>\n",
       "      <td>-1</td>\n",
       "      <td>10.0</td>\n",
       "      <td>0.0</td>\n",
       "      <td>108</td>\n",
       "    </tr>\n",
       "  </tbody>\n",
       "</table>\n",
       "<p>4 rows × 30 columns</p>\n",
       "</div>"
      ],
      "text/plain": [
       "   IsHoliday  IsOpen  HasPromotions  NearestCompetitor  Region  \\\n",
       "0          0       1              0                326       7   \n",
       "1          0       1              0                326       7   \n",
       "2          0       1              0                326       7   \n",
       "3          0       1              0                326       7   \n",
       "\n",
       "   NumberOfCustomers  NumberOfSales  Region_AreaKM2  Region_GDP  \\\n",
       "0                495           5676            9643       17130   \n",
       "1                608           8111            9643       17130   \n",
       "2                665           8300            9643       17130   \n",
       "3                630           7154            9643       17130   \n",
       "\n",
       "   Region_PopulationK       ...        Mean_TemperatureC  Mean_VisibilityKm  \\\n",
       "0                2770       ...                        1               11.0   \n",
       "1                2770       ...                        3               13.0   \n",
       "2                2770       ...                        3               11.0   \n",
       "3                2770       ...                        3               15.0   \n",
       "\n",
       "   Mean_Wind_SpeedKm_h  Min_Dew_PointC  Min_Humidity  \\\n",
       "0                   16              -2            70   \n",
       "1                   10              -2            58   \n",
       "2                   10              -3            55   \n",
       "3                   10              -6            25   \n",
       "\n",
       "   Min_Sea_Level_PressurehPa  Min_TemperatureC  Min_VisibilitykM  \\\n",
       "0                       1029                 1               6.0   \n",
       "1                       1025                 1              10.0   \n",
       "2                       1023                 2               8.0   \n",
       "3                       1022                -1              10.0   \n",
       "\n",
       "   Precipitationmm  WindDirDegrees  \n",
       "0              0.0              23  \n",
       "1              0.0              56  \n",
       "2              0.0              22  \n",
       "3              0.0             108  \n",
       "\n",
       "[4 rows x 30 columns]"
      ]
     },
     "execution_count": 29,
     "metadata": {},
     "output_type": "execute_result"
    }
   ],
   "source": [
    "categorical_mask=df_deleted_rows.dtypes==object\n",
    "attributes_to_drop=df_deleted_rows.columns[categorical_mask]\n",
    "df_cleaned=df_deleted_rows.drop(attributes_to_drop, axis=1)\n",
    "print(\"After cleaning, %d features remain\"%df_cleaned.shape[1])\n",
    "df_cleaned.head(4)"
   ]
  },
  {
   "cell_type": "code",
   "execution_count": 30,
   "metadata": {
    "collapsed": true
   },
   "outputs": [],
   "source": [
    "from sklearn.decomposition import PCA\n",
    "from sklearn.preprocessing import StandardScaler"
   ]
  },
  {
   "cell_type": "code",
   "execution_count": 31,
   "metadata": {
    "collapsed": true
   },
   "outputs": [],
   "source": [
    "df_normalized=StandardScaler().fit_transform(df_cleaned)"
   ]
  },
  {
   "cell_type": "code",
   "execution_count": 32,
   "metadata": {},
   "outputs": [
    {
     "data": {
      "text/plain": [
       "array([-0.1734503 , -2.20755253, -0.78213241, -0.66494639,  0.36823114,\n",
       "       -1.39371669, -1.48517354, -0.28960641,  1.10746426, -0.38779392,\n",
       "        0.25631939, -1.44419311, -0.13627034,  0.88492898, -0.86805888,\n",
       "        0.81687555, -0.73547399, -1.59765612, -0.09459419,  0.99530159,\n",
       "       -1.3016301 ,  0.06765167, -1.18564832, -1.68042165, -0.27754798,\n",
       "        1.16585582, -1.79752572, -0.4311807 , -0.32142635, -1.28281439])"
      ]
     },
     "execution_count": 32,
     "metadata": {},
     "output_type": "execute_result"
    }
   ],
   "source": [
    "df_normalized[4]"
   ]
  },
  {
   "cell_type": "code",
   "execution_count": 52,
   "metadata": {},
   "outputs": [
    {
     "data": {
      "text/html": [
       "<div>\n",
       "<style scoped>\n",
       "    .dataframe tbody tr th:only-of-type {\n",
       "        vertical-align: middle;\n",
       "    }\n",
       "\n",
       "    .dataframe tbody tr th {\n",
       "        vertical-align: top;\n",
       "    }\n",
       "\n",
       "    .dataframe thead th {\n",
       "        text-align: right;\n",
       "    }\n",
       "</style>\n",
       "<table border=\"1\" class=\"dataframe\">\n",
       "  <thead>\n",
       "    <tr style=\"text-align: right;\">\n",
       "      <th></th>\n",
       "      <th>principal component 1</th>\n",
       "      <th>principal component 2</th>\n",
       "      <th>principal component 3</th>\n",
       "      <th>principal component 4</th>\n",
       "      <th>principal component 5</th>\n",
       "      <th>principal component 6</th>\n",
       "      <th>principal component 7</th>\n",
       "      <th>principal component 8</th>\n",
       "      <th>principal component 9</th>\n",
       "      <th>principal component 10</th>\n",
       "      <th>principal component 11</th>\n",
       "      <th>principal component 12</th>\n",
       "      <th>principal component 13</th>\n",
       "      <th>principal component 14</th>\n",
       "      <th>principal component 15</th>\n",
       "    </tr>\n",
       "  </thead>\n",
       "  <tbody>\n",
       "    <tr>\n",
       "      <th>0</th>\n",
       "      <td>3.233197</td>\n",
       "      <td>-1.564275</td>\n",
       "      <td>-2.369119</td>\n",
       "      <td>1.263534</td>\n",
       "      <td>0.185381</td>\n",
       "      <td>1.360172</td>\n",
       "      <td>-0.811800</td>\n",
       "      <td>-0.948903</td>\n",
       "      <td>-1.148949</td>\n",
       "      <td>-0.338111</td>\n",
       "      <td>1.080075</td>\n",
       "      <td>-0.640057</td>\n",
       "      <td>-1.258949</td>\n",
       "      <td>0.757983</td>\n",
       "      <td>0.712798</td>\n",
       "    </tr>\n",
       "    <tr>\n",
       "      <th>1</th>\n",
       "      <td>2.129830</td>\n",
       "      <td>-0.397967</td>\n",
       "      <td>-3.356172</td>\n",
       "      <td>1.848376</td>\n",
       "      <td>0.012274</td>\n",
       "      <td>0.307628</td>\n",
       "      <td>-1.134229</td>\n",
       "      <td>-0.800896</td>\n",
       "      <td>-1.421675</td>\n",
       "      <td>-0.445768</td>\n",
       "      <td>0.828584</td>\n",
       "      <td>-0.479996</td>\n",
       "      <td>-0.100165</td>\n",
       "      <td>1.570026</td>\n",
       "      <td>1.093621</td>\n",
       "    </tr>\n",
       "    <tr>\n",
       "      <th>2</th>\n",
       "      <td>2.059336</td>\n",
       "      <td>0.518959</td>\n",
       "      <td>-3.111775</td>\n",
       "      <td>1.967114</td>\n",
       "      <td>0.023258</td>\n",
       "      <td>0.512890</td>\n",
       "      <td>-1.193093</td>\n",
       "      <td>-0.793542</td>\n",
       "      <td>-1.293395</td>\n",
       "      <td>-0.309605</td>\n",
       "      <td>1.321239</td>\n",
       "      <td>-0.608683</td>\n",
       "      <td>-0.184049</td>\n",
       "      <td>1.647513</td>\n",
       "      <td>0.925326</td>\n",
       "    </tr>\n",
       "    <tr>\n",
       "      <th>3</th>\n",
       "      <td>1.466218</td>\n",
       "      <td>1.447510</td>\n",
       "      <td>-4.751173</td>\n",
       "      <td>1.313905</td>\n",
       "      <td>0.311518</td>\n",
       "      <td>-0.105180</td>\n",
       "      <td>-1.006267</td>\n",
       "      <td>0.427523</td>\n",
       "      <td>-0.528589</td>\n",
       "      <td>-0.392830</td>\n",
       "      <td>1.084097</td>\n",
       "      <td>0.205118</td>\n",
       "      <td>0.433113</td>\n",
       "      <td>1.471674</td>\n",
       "      <td>0.845629</td>\n",
       "    </tr>\n",
       "  </tbody>\n",
       "</table>\n",
       "</div>"
      ],
      "text/plain": [
       "   principal component 1  principal component 2  principal component 3  \\\n",
       "0               3.233197              -1.564275              -2.369119   \n",
       "1               2.129830              -0.397967              -3.356172   \n",
       "2               2.059336               0.518959              -3.111775   \n",
       "3               1.466218               1.447510              -4.751173   \n",
       "\n",
       "   principal component 4  principal component 5  principal component 6  \\\n",
       "0               1.263534               0.185381               1.360172   \n",
       "1               1.848376               0.012274               0.307628   \n",
       "2               1.967114               0.023258               0.512890   \n",
       "3               1.313905               0.311518              -0.105180   \n",
       "\n",
       "   principal component 7  principal component 8  principal component 9  \\\n",
       "0              -0.811800              -0.948903              -1.148949   \n",
       "1              -1.134229              -0.800896              -1.421675   \n",
       "2              -1.193093              -0.793542              -1.293395   \n",
       "3              -1.006267               0.427523              -0.528589   \n",
       "\n",
       "   principal component 10  principal component 11  principal component 12  \\\n",
       "0               -0.338111                1.080075               -0.640057   \n",
       "1               -0.445768                0.828584               -0.479996   \n",
       "2               -0.309605                1.321239               -0.608683   \n",
       "3               -0.392830                1.084097                0.205118   \n",
       "\n",
       "   principal component 13  principal component 14  principal component 15  \n",
       "0               -1.258949                0.757983                0.712798  \n",
       "1               -0.100165                1.570026                1.093621  \n",
       "2               -0.184049                1.647513                0.925326  \n",
       "3                0.433113                1.471674                0.845629  "
      ]
     },
     "execution_count": 52,
     "metadata": {},
     "output_type": "execute_result"
    }
   ],
   "source": [
    "pca=PCA(n_components=15)\n",
    "new_data = pca.fit_transform(df_normalized)\n",
    "df_pca = pd.DataFrame(data = new_data, \n",
    "                        columns = ['principal component 1', 'principal component 2', 'principal component 3','principal component 4','principal component 5','principal component 6','principal component 7','principal component 8','principal component 9', 'principal component 10', 'principal component 11', 'principal component 12', 'principal component 13','principal component 14','principal component 15'])\n",
    "df_pca.head(4)"
   ]
  },
  {
   "cell_type": "code",
   "execution_count": 53,
   "metadata": {},
   "outputs": [
    {
     "data": {
      "text/plain": [
       "<matplotlib.axes._subplots.AxesSubplot at 0x2d33f8e0438>"
      ]
     },
     "execution_count": 53,
     "metadata": {},
     "output_type": "execute_result"
    },
    {
     "data": {
      "image/png": "[encoded data removed]",
      "text/plain": [
       "<matplotlib.figure.Figure at 0x2d31dadf828>"
      ]
     },
     "metadata": {
      "image/png": {
       "height": 263,
       "width": 386
      }
     },
     "output_type": "display_data"
    }
   ],
   "source": [
    "df_pca.plot(kind=\"scatter\", x=\"principal component 1\", y=\"principal component 2\")"
   ]
  },
  {
   "cell_type": "code",
   "execution_count": 54,
   "metadata": {},
   "outputs": [
    {
     "name": "stdout",
     "output_type": "stream",
     "text": [
      "Explained Variance\n",
      "   Component 1 0.22\n",
      "   Component 2 0.11\n",
      "   Component 3 0.11\n",
      "   Component 4 0.09\n",
      "   Component 5 0.07\n",
      "   Total Explained Variance 0.93\n"
     ]
    }
   ],
   "source": [
    "print(\"Explained Variance\")\n",
    "print(\"   Component 1 %3.2f\"%(pca.explained_variance_ratio_[0]))\n",
    "print(\"   Component 2 %3.2f\"%(pca.explained_variance_ratio_[1]))\n",
    "print(\"   Component 3 %3.2f\"%(pca.explained_variance_ratio_[2]))\n",
    "print(\"   Component 4 %3.2f\"%(pca.explained_variance_ratio_[3]))\n",
    "print(\"   Component 5 %3.2f\"%(pca.explained_variance_ratio_[4]))\n",
    "print(\"   Total Explained Variance %3.2f\"%sum(pca.explained_variance_ratio_))"
   ]
  },
  {
   "cell_type": "code",
   "execution_count": null,
   "metadata": {
    "collapsed": true
   },
   "outputs": [],
   "source": []
  }
 ],
 "metadata": {
  "kernelspec": {
   "display_name": "Python 3",
   "language": "python",
   "name": "python3"
  },
  "language_info": {
   "codemirror_mode": {
    "name": "ipython",
    "version": 3
   },
   "file_extension": ".py",
   "mimetype": "text/x-python",
   "name": "python",
   "nbconvert_exporter": "python",
   "pygments_lexer": "ipython3",
   "version": "3.6.3"
  }
 },
 "nbformat": 4,
 "nbformat_minor": 2
}
