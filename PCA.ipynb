{
 "cells": [
  {
   "cell_type": "code",
   "execution_count": 1,
   "metadata": {},
   "outputs": [],
   "source": [
    "#Importing library\n",
    "\n",
    "import numpy as np\n",
    "import pandas as pd\n",
    "import seaborn as sns\n",
    "import matplotlib\n",
    "import matplotlib.pyplot as plt\n",
    "\n",
    "from scipy import stats\n",
    "from scipy.stats import skew\n",
    "from scipy.stats import norm\n",
    "from scipy.stats.stats import pearsonr\n",
    "\n",
    "\n",
    "%matplotlib inline\n",
    "%config InlineBackend.figure_format = 'retina'"
   ]
  },
  {
   "cell_type": "code",
   "execution_count": 2,
   "metadata": {},
   "outputs": [],
   "source": [
    "#Importing dataset\n",
    "\n",
    "df = pd.read_csv(\"dataset/rand/train_rand_noout3.csv\")"
   ]
  },
  {
   "cell_type": "code",
   "execution_count": 3,
   "metadata": {},
   "outputs": [
    {
     "name": "stdout",
     "output_type": "stream",
     "text": [
      "Before cleaning, number of features 49\n",
      "After cleaning, 47 features remain\n"
     ]
    }
   ],
   "source": [
    "print(\"Before cleaning, number of features %d\"%df.shape[1])\n",
    "df_no_attrib=df.drop(['StoreID', 'Max_Gust_SpeedKm_h'], axis=1)\n",
    "print(\"After cleaning, %d features remain\"%df_no_attrib.shape[1])"
   ]
  },
  {
   "cell_type": "code",
   "execution_count": 4,
   "metadata": {},
   "outputs": [
    {
     "name": "stdout",
     "output_type": "stream",
     "text": [
      "The number of istances are: 357072\n",
      "The number of istances left are: 357072\n"
     ]
    }
   ],
   "source": [
    "print(\"The number of istances are: %d\"%df.shape[0])\n",
    "df_deleted_rows = df_no_attrib.dropna(axis=0)\n",
    "print(\"The number of istances left are: %d\"%df_deleted_rows.shape[0])"
   ]
  },
  {
   "cell_type": "code",
   "execution_count": 5,
   "metadata": {},
   "outputs": [
    {
     "name": "stdout",
     "output_type": "stream",
     "text": [
      "After cleaning, 46 features remain\n"
     ]
    },
    {
     "data": {
      "text/html": [
       "<div>\n",
       "<style scoped>\n",
       "    .dataframe tbody tr th:only-of-type {\n",
       "        vertical-align: middle;\n",
       "    }\n",
       "\n",
       "    .dataframe tbody tr th {\n",
       "        vertical-align: top;\n",
       "    }\n",
       "\n",
       "    .dataframe thead th {\n",
       "        text-align: right;\n",
       "    }\n",
       "</style>\n",
       "<table border=\"1\" class=\"dataframe\">\n",
       "  <thead>\n",
       "    <tr style=\"text-align: right;\">\n",
       "      <th></th>\n",
       "      <th>Unnamed: 0</th>\n",
       "      <th>Unnamed: 0.1</th>\n",
       "      <th>IsHoliday</th>\n",
       "      <th>HasPromotions</th>\n",
       "      <th>StoreType</th>\n",
       "      <th>NearestCompetitor</th>\n",
       "      <th>Region</th>\n",
       "      <th>NumberOfSales</th>\n",
       "      <th>Region_AreaKM2</th>\n",
       "      <th>Region_GDP</th>\n",
       "      <th>...</th>\n",
       "      <th>Hail</th>\n",
       "      <th>Thunderstorm</th>\n",
       "      <th>IsSaturday</th>\n",
       "      <th>IsSunday</th>\n",
       "      <th>OrdinalDate</th>\n",
       "      <th>WasOpenYesterday</th>\n",
       "      <th>IsOpenTomorrow</th>\n",
       "      <th>MeanMonthSales</th>\n",
       "      <th>MeanStoreSales</th>\n",
       "      <th>StdStoreSales</th>\n",
       "    </tr>\n",
       "  </thead>\n",
       "  <tbody>\n",
       "    <tr>\n",
       "      <th>0</th>\n",
       "      <td>0</td>\n",
       "      <td>0</td>\n",
       "      <td>0</td>\n",
       "      <td>0</td>\n",
       "      <td>2</td>\n",
       "      <td>326</td>\n",
       "      <td>7</td>\n",
       "      <td>5676</td>\n",
       "      <td>9643</td>\n",
       "      <td>17130</td>\n",
       "      <td>...</td>\n",
       "      <td>0</td>\n",
       "      <td>0</td>\n",
       "      <td>0</td>\n",
       "      <td>0</td>\n",
       "      <td>0</td>\n",
       "      <td>1</td>\n",
       "      <td>1</td>\n",
       "      <td>5013.828202</td>\n",
       "      <td>7675.446488</td>\n",
       "      <td>1890.559268</td>\n",
       "    </tr>\n",
       "    <tr>\n",
       "      <th>1</th>\n",
       "      <td>1</td>\n",
       "      <td>1</td>\n",
       "      <td>0</td>\n",
       "      <td>0</td>\n",
       "      <td>2</td>\n",
       "      <td>326</td>\n",
       "      <td>7</td>\n",
       "      <td>8111</td>\n",
       "      <td>9643</td>\n",
       "      <td>17130</td>\n",
       "      <td>...</td>\n",
       "      <td>0</td>\n",
       "      <td>0</td>\n",
       "      <td>0</td>\n",
       "      <td>0</td>\n",
       "      <td>1</td>\n",
       "      <td>1</td>\n",
       "      <td>0</td>\n",
       "      <td>5013.828202</td>\n",
       "      <td>7675.446488</td>\n",
       "      <td>1890.559268</td>\n",
       "    </tr>\n",
       "    <tr>\n",
       "      <th>2</th>\n",
       "      <td>2</td>\n",
       "      <td>2</td>\n",
       "      <td>0</td>\n",
       "      <td>0</td>\n",
       "      <td>2</td>\n",
       "      <td>326</td>\n",
       "      <td>7</td>\n",
       "      <td>8300</td>\n",
       "      <td>9643</td>\n",
       "      <td>17130</td>\n",
       "      <td>...</td>\n",
       "      <td>0</td>\n",
       "      <td>0</td>\n",
       "      <td>0</td>\n",
       "      <td>0</td>\n",
       "      <td>3</td>\n",
       "      <td>1</td>\n",
       "      <td>1</td>\n",
       "      <td>5013.828202</td>\n",
       "      <td>7675.446488</td>\n",
       "      <td>1890.559268</td>\n",
       "    </tr>\n",
       "    <tr>\n",
       "      <th>3</th>\n",
       "      <td>3</td>\n",
       "      <td>3</td>\n",
       "      <td>0</td>\n",
       "      <td>0</td>\n",
       "      <td>2</td>\n",
       "      <td>326</td>\n",
       "      <td>7</td>\n",
       "      <td>7154</td>\n",
       "      <td>9643</td>\n",
       "      <td>17130</td>\n",
       "      <td>...</td>\n",
       "      <td>0</td>\n",
       "      <td>0</td>\n",
       "      <td>1</td>\n",
       "      <td>0</td>\n",
       "      <td>4</td>\n",
       "      <td>1</td>\n",
       "      <td>0</td>\n",
       "      <td>5013.828202</td>\n",
       "      <td>7675.446488</td>\n",
       "      <td>1890.559268</td>\n",
       "    </tr>\n",
       "  </tbody>\n",
       "</table>\n",
       "<p>4 rows × 46 columns</p>\n",
       "</div>"
      ],
      "text/plain": [
       "   Unnamed: 0  Unnamed: 0.1  IsHoliday  HasPromotions  StoreType  \\\n",
       "0           0             0          0              0          2   \n",
       "1           1             1          0              0          2   \n",
       "2           2             2          0              0          2   \n",
       "3           3             3          0              0          2   \n",
       "\n",
       "   NearestCompetitor  Region  NumberOfSales  Region_AreaKM2  Region_GDP  \\\n",
       "0                326       7           5676            9643       17130   \n",
       "1                326       7           8111            9643       17130   \n",
       "2                326       7           8300            9643       17130   \n",
       "3                326       7           7154            9643       17130   \n",
       "\n",
       "       ...        Hail  Thunderstorm  IsSaturday  IsSunday  OrdinalDate  \\\n",
       "0      ...           0             0           0         0            0   \n",
       "1      ...           0             0           0         0            1   \n",
       "2      ...           0             0           0         0            3   \n",
       "3      ...           0             0           1         0            4   \n",
       "\n",
       "   WasOpenYesterday  IsOpenTomorrow  MeanMonthSales  MeanStoreSales  \\\n",
       "0                 1               1     5013.828202     7675.446488   \n",
       "1                 1               0     5013.828202     7675.446488   \n",
       "2                 1               1     5013.828202     7675.446488   \n",
       "3                 1               0     5013.828202     7675.446488   \n",
       "\n",
       "   StdStoreSales  \n",
       "0    1890.559268  \n",
       "1    1890.559268  \n",
       "2    1890.559268  \n",
       "3    1890.559268  \n",
       "\n",
       "[4 rows x 46 columns]"
      ]
     },
     "execution_count": 5,
     "metadata": {},
     "output_type": "execute_result"
    }
   ],
   "source": [
    "categorical_mask=df_deleted_rows.dtypes==object\n",
    "attributes_to_drop=df_deleted_rows.columns[categorical_mask]\n",
    "df_cleaned=df_deleted_rows.drop(attributes_to_drop, axis=1)\n",
    "print(\"After cleaning, %d features remain\"%df_cleaned.shape[1])\n",
    "df_cleaned.head(4)"
   ]
  },
  {
   "cell_type": "code",
   "execution_count": 6,
   "metadata": {},
   "outputs": [],
   "source": [
    "from sklearn.decomposition import PCA\n",
    "from sklearn.preprocessing import StandardScaler"
   ]
  },
  {
   "cell_type": "code",
   "execution_count": 7,
   "metadata": {},
   "outputs": [],
   "source": [
    "df_normalized=StandardScaler().fit_transform(df_cleaned)"
   ]
  },
  {
   "cell_type": "code",
   "execution_count": 8,
   "metadata": {},
   "outputs": [
    {
     "data": {
      "text/plain": [
       "array([-1.73199348, -1.73267341, -0.03194437,  1.11793677,  0.77194646,\n",
       "       -0.66235357,  0.37577237,  2.35222634, -0.28772056,  1.11832523,\n",
       "       -0.378561  , -1.40915499, -1.92682014, -0.04088064,  0.82891032,\n",
       "       -0.55916298,  0.77902266,  0.24298892, -1.73272757, -0.70078556,\n",
       "        0.66628566, -1.05071559,  1.90754868, -0.08113857, -1.46058261,\n",
       "       -1.2532454 ,  0.48388952, -1.45589719,  1.72462897, -0.29756214,\n",
       "       -0.96639267, -0.07042052, -0.86856904, -1.20656861, -0.23333463,\n",
       "       -0.59256037, -0.06922573, -0.26548985, -0.45577176, -0.06365495,\n",
       "       -1.67845604,  0.47378493,  0.49187605,  0.27186718,  1.6215459 ,\n",
       "        1.23620622])"
      ]
     },
     "execution_count": 8,
     "metadata": {},
     "output_type": "execute_result"
    }
   ],
   "source": [
    "df_normalized[4]"
   ]
  },
  {
   "cell_type": "code",
   "execution_count": 10,
   "metadata": {},
   "outputs": [
    {
     "data": {
      "text/html": [
       "<div>\n",
       "<style scoped>\n",
       "    .dataframe tbody tr th:only-of-type {\n",
       "        vertical-align: middle;\n",
       "    }\n",
       "\n",
       "    .dataframe tbody tr th {\n",
       "        vertical-align: top;\n",
       "    }\n",
       "\n",
       "    .dataframe thead th {\n",
       "        text-align: right;\n",
       "    }\n",
       "</style>\n",
       "<table border=\"1\" class=\"dataframe\">\n",
       "  <thead>\n",
       "    <tr style=\"text-align: right;\">\n",
       "      <th></th>\n",
       "      <th>principal component 1</th>\n",
       "      <th>principal component 2</th>\n",
       "      <th>principal component 3</th>\n",
       "      <th>principal component 4</th>\n",
       "      <th>principal component 5</th>\n",
       "      <th>principal component 6</th>\n",
       "      <th>principal component 7</th>\n",
       "      <th>principal component 8</th>\n",
       "      <th>principal component 9</th>\n",
       "      <th>principal component 10</th>\n",
       "      <th>...</th>\n",
       "      <th>principal component 16</th>\n",
       "      <th>principal component 17</th>\n",
       "      <th>principal component 18</th>\n",
       "      <th>principal component 19</th>\n",
       "      <th>principal component 20</th>\n",
       "      <th>principal component 21</th>\n",
       "      <th>principal component 22</th>\n",
       "      <th>principal component 23</th>\n",
       "      <th>principal component 24</th>\n",
       "      <th>principal component 25</th>\n",
       "    </tr>\n",
       "  </thead>\n",
       "  <tbody>\n",
       "    <tr>\n",
       "      <th>0</th>\n",
       "      <td>4.341052</td>\n",
       "      <td>1.874538</td>\n",
       "      <td>-1.196852</td>\n",
       "      <td>1.696739</td>\n",
       "      <td>0.729979</td>\n",
       "      <td>0.438202</td>\n",
       "      <td>2.226618</td>\n",
       "      <td>1.719822</td>\n",
       "      <td>0.994986</td>\n",
       "      <td>1.498372</td>\n",
       "      <td>...</td>\n",
       "      <td>-0.686856</td>\n",
       "      <td>-0.391281</td>\n",
       "      <td>-1.154365</td>\n",
       "      <td>1.140879</td>\n",
       "      <td>1.703054</td>\n",
       "      <td>-1.067286</td>\n",
       "      <td>-0.554236</td>\n",
       "      <td>-2.099716</td>\n",
       "      <td>1.274747</td>\n",
       "      <td>1.038863</td>\n",
       "    </tr>\n",
       "    <tr>\n",
       "      <th>1</th>\n",
       "      <td>3.413594</td>\n",
       "      <td>3.433871</td>\n",
       "      <td>-0.435275</td>\n",
       "      <td>1.498952</td>\n",
       "      <td>1.394214</td>\n",
       "      <td>1.005248</td>\n",
       "      <td>2.708207</td>\n",
       "      <td>0.180056</td>\n",
       "      <td>1.212389</td>\n",
       "      <td>0.822350</td>\n",
       "      <td>...</td>\n",
       "      <td>-0.751514</td>\n",
       "      <td>-0.565021</td>\n",
       "      <td>-0.863024</td>\n",
       "      <td>1.701955</td>\n",
       "      <td>1.660221</td>\n",
       "      <td>-1.898437</td>\n",
       "      <td>-0.161044</td>\n",
       "      <td>-0.864417</td>\n",
       "      <td>1.189863</td>\n",
       "      <td>0.884821</td>\n",
       "    </tr>\n",
       "    <tr>\n",
       "      <th>2</th>\n",
       "      <td>2.562549</td>\n",
       "      <td>2.437507</td>\n",
       "      <td>0.542873</td>\n",
       "      <td>2.073937</td>\n",
       "      <td>0.648804</td>\n",
       "      <td>0.350838</td>\n",
       "      <td>2.307292</td>\n",
       "      <td>1.339347</td>\n",
       "      <td>1.086986</td>\n",
       "      <td>0.296838</td>\n",
       "      <td>...</td>\n",
       "      <td>-0.194851</td>\n",
       "      <td>-0.377691</td>\n",
       "      <td>-0.685798</td>\n",
       "      <td>-0.137680</td>\n",
       "      <td>0.675939</td>\n",
       "      <td>0.799705</td>\n",
       "      <td>-0.220039</td>\n",
       "      <td>-0.194735</td>\n",
       "      <td>-1.136485</td>\n",
       "      <td>0.647284</td>\n",
       "    </tr>\n",
       "    <tr>\n",
       "      <th>3</th>\n",
       "      <td>2.103084</td>\n",
       "      <td>4.754784</td>\n",
       "      <td>0.905806</td>\n",
       "      <td>0.404468</td>\n",
       "      <td>2.113351</td>\n",
       "      <td>2.024392</td>\n",
       "      <td>3.226460</td>\n",
       "      <td>-0.361825</td>\n",
       "      <td>1.309836</td>\n",
       "      <td>-0.199867</td>\n",
       "      <td>...</td>\n",
       "      <td>-0.169951</td>\n",
       "      <td>-0.179542</td>\n",
       "      <td>-0.541941</td>\n",
       "      <td>0.332158</td>\n",
       "      <td>0.173775</td>\n",
       "      <td>-0.115051</td>\n",
       "      <td>0.692761</td>\n",
       "      <td>0.924619</td>\n",
       "      <td>-1.049423</td>\n",
       "      <td>0.394028</td>\n",
       "    </tr>\n",
       "  </tbody>\n",
       "</table>\n",
       "<p>4 rows × 25 columns</p>\n",
       "</div>"
      ],
      "text/plain": [
       "   principal component 1  principal component 2  principal component 3  \\\n",
       "0               4.341052               1.874538              -1.196852   \n",
       "1               3.413594               3.433871              -0.435275   \n",
       "2               2.562549               2.437507               0.542873   \n",
       "3               2.103084               4.754784               0.905806   \n",
       "\n",
       "   principal component 4  principal component 5  principal component 6  \\\n",
       "0               1.696739               0.729979               0.438202   \n",
       "1               1.498952               1.394214               1.005248   \n",
       "2               2.073937               0.648804               0.350838   \n",
       "3               0.404468               2.113351               2.024392   \n",
       "\n",
       "   principal component 7  principal component 8  principal component 9  \\\n",
       "0               2.226618               1.719822               0.994986   \n",
       "1               2.708207               0.180056               1.212389   \n",
       "2               2.307292               1.339347               1.086986   \n",
       "3               3.226460              -0.361825               1.309836   \n",
       "\n",
       "   principal component 10           ...            principal component 16  \\\n",
       "0                1.498372           ...                         -0.686856   \n",
       "1                0.822350           ...                         -0.751514   \n",
       "2                0.296838           ...                         -0.194851   \n",
       "3               -0.199867           ...                         -0.169951   \n",
       "\n",
       "   principal component 17  principal component 18  principal component 19  \\\n",
       "0               -0.391281               -1.154365                1.140879   \n",
       "1               -0.565021               -0.863024                1.701955   \n",
       "2               -0.377691               -0.685798               -0.137680   \n",
       "3               -0.179542               -0.541941                0.332158   \n",
       "\n",
       "   principal component 20  principal component 21  principal component 22  \\\n",
       "0                1.703054               -1.067286               -0.554236   \n",
       "1                1.660221               -1.898437               -0.161044   \n",
       "2                0.675939                0.799705               -0.220039   \n",
       "3                0.173775               -0.115051                0.692761   \n",
       "\n",
       "   principal component 23  principal component 24  principal component 25  \n",
       "0               -2.099716                1.274747                1.038863  \n",
       "1               -0.864417                1.189863                0.884821  \n",
       "2               -0.194735               -1.136485                0.647284  \n",
       "3                0.924619               -1.049423                0.394028  \n",
       "\n",
       "[4 rows x 25 columns]"
      ]
     },
     "execution_count": 10,
     "metadata": {},
     "output_type": "execute_result"
    }
   ],
   "source": [
    "pca=PCA(n_components=25)\n",
    "new_data = pca.fit_transform(df_normalized)\n",
    "df_pca = pd.DataFrame(data = new_data, \n",
    "                        columns = ['principal component 1', 'principal component 2', 'principal component 3','principal component 4','principal component 5','principal component 6','principal component 7','principal component 8','principal component 9', 'principal component 10', 'principal component 11', 'principal component 12', 'principal component 13','principal component 14','principal component 15','principal component 16','principal component 17','principal component 18','principal component 19', 'principal component 20', 'principal component 21', 'principal component 22', 'principal component 23','principal component 24','principal component 25'])\n",
    "df_pca.head(4)"
   ]
  },
  {
   "cell_type": "code",
   "execution_count": 11,
   "metadata": {},
   "outputs": [
    {
     "data": {
      "text/plain": [
       "<matplotlib.axes._subplots.AxesSubplot at 0x20fae4c4080>"
      ]
     },
     "execution_count": 11,
     "metadata": {},
     "output_type": "execute_result"
    },
    {
     "data": {
      "image/png": "[encoded data removed]",
      "text/plain": [
       "<matplotlib.figure.Figure at 0x20fae3b89b0>"
      ]
     },
     "metadata": {
      "image/png": {
       "height": 263,
       "width": 403
      }
     },
     "output_type": "display_data"
    }
   ],
   "source": [
    "df_pca.plot(kind=\"scatter\", x=\"principal component 1\", y=\"principal component 2\")"
   ]
  },
  {
   "cell_type": "code",
   "execution_count": 12,
   "metadata": {},
   "outputs": [
    {
     "name": "stdout",
     "output_type": "stream",
     "text": [
      "Explained Variance\n",
      "   Component 1 0.15\n",
      "   Component 2 0.09\n",
      "   Component 3 0.08\n",
      "   Component 4 0.06\n",
      "   Component 5 0.05\n",
      "   Total Explained Variance 0.91\n"
     ]
    }
   ],
   "source": [
    "print(\"Explained Variance\")\n",
    "print(\"   Component 1 %3.2f\"%(pca.explained_variance_ratio_[0]))\n",
    "print(\"   Component 2 %3.2f\"%(pca.explained_variance_ratio_[1]))\n",
    "print(\"   Component 3 %3.2f\"%(pca.explained_variance_ratio_[2]))\n",
    "print(\"   Component 4 %3.2f\"%(pca.explained_variance_ratio_[3]))\n",
    "print(\"   Component 5 %3.2f\"%(pca.explained_variance_ratio_[4]))\n",
    "print(\"   Total Explained Variance %3.2f\"%sum(pca.explained_variance_ratio_))"
   ]
  },
  {
   "cell_type": "code",
   "execution_count": null,
   "metadata": {},
   "outputs": [],
   "source": []
  }
 ],
 "metadata": {
  "kernelspec": {
   "display_name": "Python 3",
   "language": "python",
   "name": "python3"
  },
  "language_info": {
   "codemirror_mode": {
    "name": "ipython",
    "version": 3
   },
   "file_extension": ".py",
   "mimetype": "text/x-python",
   "name": "python",
   "nbconvert_exporter": "python",
   "pygments_lexer": "ipython3",
   "version": "3.6.0"
  }
 },
 "nbformat": 4,
 "nbformat_minor": 2
}
