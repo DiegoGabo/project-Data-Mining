{
 "cells": [
  {
   "cell_type": "code",
   "execution_count": 1,
   "metadata": {
    "collapsed": false
   },
   "outputs": [],
   "source": [
    "#Importing library\n",
    "\n",
    "import numpy as np\n",
    "import pandas as pd\n",
    "import seaborn as sns\n",
    "import matplotlib.pyplot as plt\n",
    "import datetime\n",
    "#import xgboost as xgb\n",
    "\n",
    "from scipy import stats\n",
    "from scipy.stats import skew\n",
    "from scipy.stats import norm\n",
    "from scipy.stats.stats import pearsonr\n",
    "from sklearn.datasets import make_regression\n",
    "from sklearn.feature_selection import SelectFromModel\n",
    "from xgboost.sklearn import XGBRegressor\n",
    "from sklearn.metrics import mean_squared_error\n",
    "from sklearn.metrics import mean_absolute_error\n",
    "from math import sqrt\n",
    "\n",
    "\n",
    "%matplotlib inline\n",
    "%config InlineBackend.figure_format = 'retina'"
   ]
  },
  {
   "cell_type": "markdown",
   "metadata": {},
   "source": [
    "We load the training set and the validation set which have been already preprocessed"
   ]
  },
  {
   "cell_type": "code",
   "execution_count": 3,
   "metadata": {
    "collapsed": false
   },
   "outputs": [],
   "source": [
    "#Importing dataset\n",
    "train = pd.read_csv(\"../dataset/processed/train_rand.csv\", index_col=0)\n",
    "val1 = pd.read_csv(\"../dataset/processed/val1_rand.csv\", index_col=0)\n",
    "val2 = pd.read_csv(\"../dataset/processed/val2.csv\", index_col=0)"
   ]
  },
  {
   "cell_type": "code",
   "execution_count": 4,
   "metadata": {
    "collapsed": true
   },
   "outputs": [],
   "source": [
    "train.OrdinalDate = train.OrdinalDate.map(lambda x: x % 365)\n",
    "val1.OrdinalDate = val1.OrdinalDate.map(lambda x: x % 365)\n",
    "val2.OrdinalDate = val2.OrdinalDate.map(lambda x: x % 365)"
   ]
  },
  {
   "cell_type": "markdown",
   "metadata": {},
   "source": [
    "We prepare the training input samples and the labels for all the sets"
   ]
  },
  {
   "cell_type": "code",
   "execution_count": 5,
   "metadata": {
    "collapsed": false
   },
   "outputs": [],
   "source": [
    "X=train.drop(['StoreID','Date', 'NumberOfSales', 'Region'], axis=1)\n",
    "X_val1=val1.drop(['StoreID','Date', 'NumberOfSales', 'Region'], axis=1)\n",
    "X_val2=val2.drop(['StoreID','Date', 'NumberOfSales', 'Region'], axis=1)\n",
    "\n",
    "y=train['NumberOfSales']\n",
    "y_val1=val1['NumberOfSales']\n",
    "y_val2=val2['NumberOfSales']"
   ]
  },
  {
   "cell_type": "markdown",
   "metadata": {},
   "source": [
    "We try to find good hyperparameter in xGBoost. First of all we try to find good values for max_depth and colsample_bytree "
   ]
  },
  {
   "cell_type": "code",
   "execution_count": 6,
   "metadata": {
    "collapsed": false,
    "scrolled": true
   },
   "outputs": [
    {
     "ename": "NameError",
     "evalue": "name 'depth_range' is not defined",
     "output_type": "error",
     "traceback": [
      "\u001b[0;31m---------------------------------------------------------------------------\u001b[0m",
      "\u001b[0;31mNameError\u001b[0m                                 Traceback (most recent call last)",
      "\u001b[0;32m<ipython-input-6-cee6a6f5133b>\u001b[0m in \u001b[0;36m<module>\u001b[0;34m()\u001b[0m\n\u001b[1;32m      2\u001b[0m \u001b[1;31m#col_range = range()\u001b[0m\u001b[1;33m\u001b[0m\u001b[1;33m\u001b[0m\u001b[0m\n\u001b[1;32m      3\u001b[0m \u001b[1;33m\u001b[0m\u001b[0m\n\u001b[0;32m----> 4\u001b[0;31m \u001b[1;32mfor\u001b[0m \u001b[0md\u001b[0m \u001b[1;32min\u001b[0m \u001b[0mdepth_range\u001b[0m\u001b[1;33m:\u001b[0m\u001b[1;33m\u001b[0m\u001b[0m\n\u001b[0m\u001b[1;32m      5\u001b[0m     \u001b[1;32mfor\u001b[0m \u001b[0mcol\u001b[0m \u001b[1;32min\u001b[0m \u001b[0mcol_range\u001b[0m\u001b[1;33m:\u001b[0m\u001b[1;33m\u001b[0m\u001b[0m\n\u001b[1;32m      6\u001b[0m             xclas = XGBRegressor(subsample=0.7, eta=0.3, max_depth=d, \n",
      "\u001b[0;31mNameError\u001b[0m: name 'depth_range' is not defined"
     ]
    }
   ],
   "source": [
    "#depth_range = range()\n",
    "#col_range = range()\n",
    "\n",
    "for d in depth_range:\n",
    "    for col in col_range:\n",
    "            xclas = XGBRegressor(subsample=0.7, eta=0.3, max_depth=d, \n",
    "                                 colsample_bytree=col, nthread=4,\n",
    "                                 min_child_weight=5, gamma=10,\n",
    "                                 n_estimators=50)  \n",
    "            xclas.fit(X, y)   \n",
    "            y_pred = xclas.predict(X_val1) \n",
    "            mae_val1=mean_absolute_error(y_val1,y_pred)\n",
    "\n",
    "            print(\"max_depth= \", d, \" colsample_bytree= \", col, \" mae= \", mae_val1)"
   ]
  },
  {
   "cell_type": "markdown",
   "metadata": {},
   "source": [
    "At the end predict the validation error on val2 and we compute the csv in which there is the result"
   ]
  },
  {
   "cell_type": "code",
   "execution_count": 10,
   "metadata": {
    "collapsed": false
   },
   "outputs": [
    {
     "name": "stdout",
     "output_type": "stream",
     "text": [
      "mae_val2= 600.470504139\n"
     ]
    }
   ],
   "source": [
    "xclas = XGBRegressor(subsample=0.6, eta=0.3, max_depth=17, \n",
    "                         colsample_bytree=0.7, nthread=4,\n",
    "                         min_child_weight=5, gamma=0,\n",
    "                         n_estimators=200)  \n",
    "\n",
    "xclas.fit(X, y)  \n",
    "\n",
    "y_pred_val2 = xclas.predict(X_val2) \n",
    "mae_val2=mean_absolute_error(y_val2,y_pred_val2)\n",
    "\n",
    "print(\"mae_val2=\",mae_val2)"
   ]
  },
  {
   "cell_type": "code",
   "execution_count": 18,
   "metadata": {
    "collapsed": false
   },
   "outputs": [],
   "source": [
    "val2=val2.reset_index(drop=True)\n",
    "y_val2 = y_val2.reset_index(drop=True)\n",
    "\n",
    "columns=['Date', 'StoreID', 'RegionID', 'SalesPredicted', 'SalesReal']\n",
    "index=range(y_val2.shape[0])\n",
    "result=pd.DataFrame(index=index,columns=columns)\n",
    "\n",
    "result['Date']=val2['Date']\n",
    "result['StoreID']=val2['StoreID']\n",
    "result['RegionID']=val2['Region']\n",
    "result['SalesPredicted']=y_pred_val2\n",
    "result['SalesReal']=y_val2\n",
    "\n",
    "result.to_csv(\"results_xg.csv\")"
   ]
  }
 ],
 "metadata": {
  "anaconda-cloud": {},
  "kernelspec": {
   "display_name": "Python [default]",
   "language": "python",
   "name": "python3"
  },
  "language_info": {
   "codemirror_mode": {
    "name": "ipython",
    "version": 3
   },
   "file_extension": ".py",
   "mimetype": "text/x-python",
   "name": "python",
   "nbconvert_exporter": "python",
   "pygments_lexer": "ipython3",
   "version": "3.5.2"
  }
 },
 "nbformat": 4,
 "nbformat_minor": 2
}
