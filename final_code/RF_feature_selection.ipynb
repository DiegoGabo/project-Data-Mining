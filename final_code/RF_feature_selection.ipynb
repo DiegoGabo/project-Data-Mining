{
 "cells": [
  {
   "cell_type": "code",
   "execution_count": 1,
   "metadata": {},
   "outputs": [],
   "source": [
    "#Importing library\n",
    "\n",
    "import numpy as np\n",
    "import pandas as pd\n",
    "import seaborn as sns\n",
    "import matplotlib\n",
    "import matplotlib.pyplot as plt\n",
    "import datetime\n",
    "\n",
    "from scipy import stats\n",
    "from scipy.stats import skew\n",
    "from scipy.stats import norm\n",
    "from scipy.stats.stats import pearsonr\n",
    "from sklearn.ensemble import RandomForestRegressor\n",
    "from sklearn.datasets import make_regression\n",
    "from sklearn.ensemble import ExtraTreesRegressor\n",
    "from sklearn.metrics import mean_squared_error\n",
    "from sklearn.metrics import mean_absolute_error\n",
    "from sklearn.model_selection import cross_val_score\n",
    "from math import sqrt\n",
    "\n",
    "\n",
    "%matplotlib inline\n",
    "%config InlineBackend.figure_format = 'retina'"
   ]
  },
  {
   "cell_type": "markdown",
   "metadata": {},
   "source": [
    "Importing libraries and training and validation sets"
   ]
  },
  {
   "cell_type": "code",
   "execution_count": 2,
   "metadata": {},
   "outputs": [],
   "source": [
    "#Importing dataset\n",
    "train = pd.read_csv(\"dataset/processed/train_rand.csv\", index_col=0)\n",
    "val = pd.read_csv(\"dataset/processed/val1_rand.csv\", index_col=0)"
   ]
  },
  {
   "cell_type": "code",
   "execution_count": 3,
   "metadata": {},
   "outputs": [],
   "source": [
    "train.OrdinalDate = train.OrdinalDate.map(lambda x: x % 365)\n",
    "val.OrdinalDate = val.OrdinalDate.map(lambda x: x % 365)"
   ]
  },
  {
   "cell_type": "markdown",
   "metadata": {},
   "source": [
    "Divide the target and drop the attributes to not use"
   ]
  },
  {
   "cell_type": "code",
   "execution_count": 4,
   "metadata": {},
   "outputs": [],
   "source": [
    "y=train['NumberOfSales']\n",
    "y_val1=val['NumberOfSales']"
   ]
  },
  {
   "cell_type": "code",
   "execution_count": 5,
   "metadata": {},
   "outputs": [],
   "source": [
    "X=train.drop(['StoreID','Date', 'NumberOfSales', 'Region'], axis=1)\n",
    "X_val1=val.drop(['StoreID','Date', 'NumberOfSales', 'Region'], axis=1)"
   ]
  },
  {
   "cell_type": "markdown",
   "metadata": {},
   "source": [
    "We run a forest for all the attributes to know the baseline error"
   ]
  },
  {
   "cell_type": "code",
   "execution_count": 6,
   "metadata": {},
   "outputs": [
    {
     "name": "stdout",
     "output_type": "stream",
     "text": [
      "383.60591953656353\n"
     ]
    }
   ],
   "source": [
    "nt=100\n",
    "na=21\n",
    "depth=40\n",
    "\n",
    "forest = RandomForestRegressor(max_depth=depth, random_state=0, n_estimators=nt, max_features=na, n_jobs=-1)\n",
    "forest.fit(X, y)\n",
    "\n",
    "y_pred = forest.predict(X_val1)\n",
    "mae = mean_absolute_error(y_val1, y_pred)\n",
    "\n",
    "print(mae)"
   ]
  },
  {
   "cell_type": "markdown",
   "metadata": {},
   "source": [
    "For all the attributes, eliminate one attributes and train and evaluate the model. If the error is less without the attribute, it will be dropped in the final model"
   ]
  },
  {
   "cell_type": "code",
   "execution_count": 7,
   "metadata": {},
   "outputs": [
    {
     "name": "stdout",
     "output_type": "stream",
     "text": [
      "IsHoliday 383.83120678693496\n",
      "HasPromotions 426.2090244167761\n",
      "StoreType 386.2216305625058\n",
      "NearestCompetitor 386.5210394262348\n",
      "Region_AreaKM2 383.5739179259406\n",
      "Region_GDP 383.5760143489787\n",
      "Region_PopulationK 383.91575172373746\n",
      "CloudCover 383.2475884188583\n",
      "Max_Dew_PointC 383.4429206488705\n",
      "Max_Gust_SpeedKm_h 382.6460962229283\n",
      "Max_Humidity 383.20809612382385\n",
      "Max_Sea_Level_PressurehPa 383.27407898489037\n",
      "Max_TemperatureC 383.95071278436234\n",
      "Max_VisibilityKm 383.58166406221926\n",
      "Max_Wind_SpeedKm_h 382.322246746307\n",
      "Mean_Dew_PointC 382.3055462863913\n",
      "Mean_Humidity 383.226074357783\n",
      "Mean_Sea_Level_PressurehPa 383.04760515676077\n",
      "Mean_TemperatureC 383.2489099494006\n",
      "Mean_VisibilityKm 382.63456813473\n",
      "Mean_Wind_SpeedKm_h 382.54668224123265\n",
      "Min_Dew_PointC 382.64957784978105\n",
      "Min_Humidity 383.3302354170701\n",
      "Min_Sea_Level_PressurehPa 383.2849484750965\n",
      "Min_TemperatureC 383.12017483993844\n",
      "Min_VisibilitykM 383.39464284990527\n",
      "Precipitationmm 383.2855053517873\n",
      "WindDirDegrees 382.5162952173552\n",
      "AssortmentType_With Fish Department 382.87456043642567\n",
      "AssortmentType_With Non-Food Department 383.78727246206944\n",
      "Rain 383.52272728737523\n",
      "Snow 383.1847754733077\n",
      "Fog 383.30743236905045\n",
      "Hail 382.99514791098295\n",
      "Thunderstorm 383.2792380158563\n",
      "IsSaturday 390.64918452760253\n",
      "IsSunday 389.8160536911232\n",
      "OrdinalDate 392.48735733796065\n",
      "WasOpenYesterday 402.28743908292176\n",
      "IsOpenTomorrow 385.0072443565224\n",
      "MeanMonthSales 386.3123950370719\n",
      "MeanStoreSales 425.7880992877611\n",
      "StdStoreSales 392.40237690761876\n",
      "Mean_Dew_PointC 382.3055462863913\n"
     ]
    }
   ],
   "source": [
    "feature_names = list(X.columns)\n",
    "\n",
    "feature_best = ''\n",
    "mae_best = 10000000\n",
    "\n",
    "for feature in feature_names:\n",
    "    X_t=X[feature]\n",
    "    X_val_t=X_val1[feature]\n",
    "    X_f = X.drop([feature], axis=1)\n",
    "    X_val_f = X_val1.drop([feature], axis=1)\n",
    "\n",
    "    forest = RandomForestRegressor(max_depth=depth, random_state=0, n_estimators=nt, max_features=na, n_jobs=-1)\n",
    "    forest.fit(X_f, y)\n",
    "\n",
    "    y_pred = forest.predict(X_val_f)\n",
    "    mae = mean_absolute_error(y_val1, y_pred)\n",
    "\n",
    "    print(feature, mae)\n",
    "\n",
    "    if( mae < mae_best ):\n",
    "        feature_best = feature\n",
    "        mae_best = mae\n",
    "    X[feature]=X_t\n",
    "    X_val1[feature]=X_val_t\n",
    "    \n",
    "print(feature_best, mae_best)"
   ]
  }
 ],
 "metadata": {
  "kernelspec": {
   "display_name": "Python 3",
   "language": "python",
   "name": "python3"
  },
  "language_info": {
   "codemirror_mode": {
    "name": "ipython",
    "version": 3
   },
   "file_extension": ".py",
   "mimetype": "text/x-python",
   "name": "python",
   "nbconvert_exporter": "python",
   "pygments_lexer": "ipython3",
   "version": "3.6.4"
  }
 },
 "nbformat": 4,
 "nbformat_minor": 2
}
