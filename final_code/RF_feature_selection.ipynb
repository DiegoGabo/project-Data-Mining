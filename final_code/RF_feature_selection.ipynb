{
 "cells": [
  {
   "cell_type": "code",
   "execution_count": 1,
   "metadata": {},
   "outputs": [],
   "source": [
    "#Importing library\n",
    "\n",
    "import numpy as np\n",
    "import pandas as pd\n",
    "import seaborn as sns\n",
    "import matplotlib\n",
    "import matplotlib.pyplot as plt\n",
    "import datetime\n",
    "\n",
    "from scipy import stats\n",
    "from scipy.stats import skew\n",
    "from scipy.stats import norm\n",
    "from scipy.stats.stats import pearsonr\n",
    "from sklearn.ensemble import RandomForestRegressor\n",
    "from sklearn.datasets import make_regression\n",
    "from sklearn.ensemble import ExtraTreesRegressor\n",
    "from sklearn.metrics import mean_squared_error\n",
    "from sklearn.metrics import mean_absolute_error\n",
    "from sklearn.model_selection import cross_val_score\n",
    "from math import sqrt\n",
    "\n",
    "\n",
    "%matplotlib inline\n",
    "%config InlineBackend.figure_format = 'retina'"
   ]
  },
  {
   "cell_type": "markdown",
   "metadata": {},
   "source": [
    "Importing libraries and training and validation sets"
   ]
  },
  {
   "cell_type": "code",
   "execution_count": 2,
   "metadata": {},
   "outputs": [],
   "source": [
    "#Importing dataset\n",
    "train = pd.read_csv(\"dataset/rand/train_rand_noout3.csv\")\n",
    "val = pd.read_csv(\"dataset/rand/train_val1_rand.csv\")"
   ]
  },
  {
   "cell_type": "markdown",
   "metadata": {},
   "source": [
    "Divide the target and drop the attributes to not use"
   ]
  },
  {
   "cell_type": "code",
   "execution_count": 3,
   "metadata": {},
   "outputs": [],
   "source": [
    "y=train['NumberOfSales']\n",
    "y_val1=val['NumberOfSales']"
   ]
  },
  {
   "cell_type": "code",
   "execution_count": 4,
   "metadata": {},
   "outputs": [],
   "source": [
    "X=train.drop(['StoreID','Date', 'NumberOfSales', 'Region','Unnamed: 0','Unnamed: 0.1'], axis=1)\n",
    "X_val1=val.drop(['StoreID','Date', 'NumberOfSales', 'Region','Unnamed: 0'], axis=1)"
   ]
  },
  {
   "cell_type": "markdown",
   "metadata": {},
   "source": [
    "We run a forest for all the attributes to know the baseline error"
   ]
  },
  {
   "cell_type": "code",
   "execution_count": 5,
   "metadata": {},
   "outputs": [
    {
     "name": "stdout",
     "output_type": "stream",
     "text": [
      "375.31326541238434\n"
     ]
    }
   ],
   "source": [
    "nt=100\n",
    "na=21\n",
    "depth=40\n",
    "\n",
    "forest = RandomForestRegressor(max_depth=depth, random_state=0, n_estimators=nt, max_features=na, n_jobs=-1)\n",
    "forest.fit(X, y)\n",
    "\n",
    "y_pred = forest.predict(X_val1)\n",
    "mae = mean_absolute_error(y_val1, y_pred)\n",
    "\n",
    "print(mae)"
   ]
  },
  {
   "cell_type": "markdown",
   "metadata": {},
   "source": [
    "For all the attributes, eliminate one attributes and train and evaluate the model. If the error is less without the attribute, it will be dropped in the final model"
   ]
  },
  {
   "cell_type": "code",
   "execution_count": 6,
   "metadata": {},
   "outputs": [
    {
     "name": "stdout",
     "output_type": "stream",
     "text": [
      "IsHoliday 375.7895428182069\n",
      "HasPromotions 416.7094503946387\n",
      "StoreType 376.97445694673087\n",
      "NearestCompetitor 378.42056013613427\n",
      "Region_AreaKM2 375.70946376785446\n",
      "Region_GDP 374.64636020543145\n",
      "Region_PopulationK 375.1264491616908\n",
      "CloudCover 374.2288321157149\n",
      "Max_Dew_PointC 373.8004836349852\n",
      "Max_Gust_SpeedKm_h 374.1935138514527\n",
      "Max_Humidity 373.8623527014402\n",
      "Max_Sea_Level_PressurehPa 373.89017993852\n",
      "Max_TemperatureC 374.9035810937966\n",
      "Max_VisibilityKm 373.8364219503873\n",
      "Max_Wind_SpeedKm_h 373.76672894870455\n",
      "Mean_Dew_PointC 374.1418929829752\n",
      "Mean_Humidity 374.6624673659277\n",
      "Mean_Sea_Level_PressurehPa 374.08641375201836\n",
      "Mean_TemperatureC 374.30797991806793\n",
      "Mean_VisibilityKm 374.1670499026634\n",
      "Mean_Wind_SpeedKm_h 374.1315595153941\n",
      "Min_Dew_PointC 373.8303355473198\n",
      "Min_Humidity 374.23915737298586\n",
      "Min_Sea_Level_PressurehPa 374.1512684448363\n",
      "Min_TemperatureC 374.0317869969657\n",
      "Min_VisibilitykM 374.7881798577168\n",
      "Precipitationmm 374.71145270656194\n",
      "WindDirDegrees 373.8527967525066\n",
      "AssortmentType_With Fish Department 374.1605840241056\n",
      "AssortmentType_With Non-Food Department 375.286400740217\n",
      "Rain 374.07180331874616\n",
      "Snow 374.4543271251456\n",
      "Fog 374.30914415437485\n",
      "Hail 374.61617903172214\n",
      "Thunderstorm 374.58256297341205\n",
      "IsSaturday 382.94405585371175\n",
      "IsSunday 381.20309670856443\n",
      "OrdinalDate 389.28175095502627\n",
      "WasOpenYesterday 394.4115090591715\n",
      "IsOpenTomorrow 376.2796279668243\n",
      "MeanMonthSales 382.12978118373667\n",
      "MeanStoreSales 414.3008010730459\n",
      "StdStoreSales 384.27551342921976\n",
      "Max_Wind_SpeedKm_h 373.76672894870455\n"
     ]
    }
   ],
   "source": [
    "feature_names = list(X.columns)\n",
    "\n",
    "feature_best = ''\n",
    "mae_best = 10000000\n",
    "\n",
    "for feature in feature_names:\n",
    "    X_t=X[feature]\n",
    "    X_val_t=X_val1[feature]\n",
    "    X_f = X.drop([feature], axis=1)\n",
    "    X_val_f = X_val1.drop([feature], axis=1)\n",
    "\n",
    "    forest = RandomForestRegressor(max_depth=depth, random_state=0, n_estimators=nt, max_features=na, n_jobs=-1)\n",
    "    forest.fit(X_f, y)\n",
    "\n",
    "    y_pred = forest.predict(X_val_f)\n",
    "    mae = mean_absolute_error(y_val1, y_pred)\n",
    "\n",
    "    print(feature, mae)\n",
    "\n",
    "    if( mae < mae_best ):\n",
    "        feature_best = feature\n",
    "        mae_best = mae\n",
    "    X[feature]=X_t\n",
    "    X_val1[feature]=X_val_t\n",
    "    \n",
    "print(feature_best, mae_best)"
   ]
  }
 ],
 "metadata": {
  "kernelspec": {
   "display_name": "Python 3",
   "language": "python",
   "name": "python3"
  },
  "language_info": {
   "codemirror_mode": {
    "name": "ipython",
    "version": 3
   },
   "file_extension": ".py",
   "mimetype": "text/x-python",
   "name": "python",
   "nbconvert_exporter": "python",
   "pygments_lexer": "ipython3",
   "version": "3.6.4"
  }
 },
 "nbformat": 4,
 "nbformat_minor": 2
}
