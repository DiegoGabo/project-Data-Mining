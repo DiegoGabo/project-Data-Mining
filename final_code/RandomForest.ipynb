{
 "cells": [
  {
   "cell_type": "code",
   "execution_count": 17,
   "metadata": {},
   "outputs": [],
   "source": [
    "#Importing library\n",
    "\n",
    "import numpy as np\n",
    "import pandas as pd\n",
    "import seaborn as sns\n",
    "import matplotlib\n",
    "import matplotlib.pyplot as plt\n",
    "import datetime\n",
    "\n",
    "from scipy import stats\n",
    "from scipy.stats import skew\n",
    "from scipy.stats import norm\n",
    "from scipy.stats.stats import pearsonr\n",
    "from sklearn.ensemble import RandomForestRegressor\n",
    "from sklearn.datasets import make_regression\n",
    "from sklearn.ensemble import ExtraTreesRegressor\n",
    "from sklearn.metrics import mean_squared_error\n",
    "from sklearn.metrics import mean_absolute_error\n",
    "from sklearn.model_selection import cross_val_score\n",
    "from math import sqrt\n",
    "\n",
    "\n",
    "%matplotlib inline\n",
    "%config InlineBackend.figure_format = 'retina'"
   ]
  },
  {
   "cell_type": "code",
   "execution_count": 18,
   "metadata": {},
   "outputs": [],
   "source": [
    "#Importing dataset\n",
    "train = pd.read_csv(\"dataset/processed/train_rand.csv\", index_col=0)\n",
    "val = pd.read_csv(\"dataset/processed/val1_rand.csv\", index_col=0)"
   ]
  },
  {
   "cell_type": "code",
   "execution_count": 19,
   "metadata": {},
   "outputs": [],
   "source": [
    "train.OrdinalDate = train.OrdinalDate.map(lambda x: x % 365)\n",
    "val.OrdinalDate = val.OrdinalDate.map(lambda x: x % 365)"
   ]
  },
  {
   "cell_type": "markdown",
   "metadata": {},
   "source": [
    "We prepare the target values for all the sets"
   ]
  },
  {
   "cell_type": "code",
   "execution_count": 20,
   "metadata": {},
   "outputs": [],
   "source": [
    "y=train['NumberOfSales']\n",
    "y_val1=val['NumberOfSales']"
   ]
  },
  {
   "cell_type": "markdown",
   "metadata": {},
   "source": [
    "We prepare the training input samples for all the sets"
   ]
  },
  {
   "cell_type": "code",
   "execution_count": 21,
   "metadata": {},
   "outputs": [],
   "source": [
    "X=train.drop(['StoreID','Date', 'NumberOfSales', 'Region'], axis=1)\n",
    "X_val1=val.drop(['StoreID','Date', 'NumberOfSales', 'Region'], axis=1)"
   ]
  },
  {
   "cell_type": "markdown",
   "metadata": {},
   "source": [
    "We create a table to save the results for the search of the hyperparameters"
   ]
  },
  {
   "cell_type": "code",
   "execution_count": 6,
   "metadata": {},
   "outputs": [],
   "source": [
    "res = {'number of trees' : [], 'number of attributes' : [], 'depth' : [], 'mae' : []}"
   ]
  },
  {
   "cell_type": "code",
   "execution_count": 7,
   "metadata": {
    "scrolled": false
   },
   "outputs": [
    {
     "name": "stdout",
     "output_type": "stream",
     "text": [
      "383.45218146864914 20 100 31\n",
      "383.1556854659545 20 100 39\n",
      "383.4923013175628 20 100 47\n",
      "384.3861635570196 24 100 31\n",
      "383.2323836652804 24 100 39\n",
      "383.6505568652767 24 100 47\n",
      "385.54816395849616 28 100 31\n",
      "384.5295717747027 28 100 39\n",
      "384.62050281557356 28 100 47\n"
     ]
    }
   ],
   "source": [
    "nt=100\n",
    "for na in range(20,30,4):\n",
    "    for depth in range(31,50,8):\n",
    "        forest = RandomForestRegressor(max_depth=depth, random_state=0, n_estimators=nt, max_features=na, n_jobs=-1)\n",
    "        forest.fit(X, y)\n",
    "        y_pred=forest.predict(X_val1)\n",
    "        mae_val1=mean_absolute_error(y_val1,y_pred)\n",
    "        res['number of trees'].append(nt)\n",
    "        res['number of attributes'].append(na)\n",
    "        res['depth'].append(depth)\n",
    "        res['mae'].append(mae_val1)\n",
    "        print(mae_val1, na, nt, depth)\n",
    "r_df = pd.DataFrame(res)"
   ]
  },
  {
   "cell_type": "code",
   "execution_count": 8,
   "metadata": {},
   "outputs": [
    {
     "data": {
      "text/plain": [
       "383.1556854659545"
      ]
     },
     "execution_count": 8,
     "metadata": {},
     "output_type": "execute_result"
    }
   ],
   "source": [
    "r_df['mae'].min()"
   ]
  },
  {
   "cell_type": "code",
   "execution_count": 9,
   "metadata": {},
   "outputs": [],
   "source": [
    "r_df.to_csv(\"parameters.csv\")"
   ]
  },
  {
   "cell_type": "markdown",
   "metadata": {},
   "source": [
    "Run on the test set and save out in the format for the evaluation of the error"
   ]
  },
  {
   "cell_type": "code",
   "execution_count": 22,
   "metadata": {},
   "outputs": [],
   "source": [
    "test = pd.read_csv(\"dataset/processed/val2.csv\", index_col=0)\n",
    "test.OrdinalDate = test.OrdinalDate.map(lambda x: x % 365)"
   ]
  },
  {
   "cell_type": "code",
   "execution_count": 24,
   "metadata": {},
   "outputs": [],
   "source": [
    "y_test = test['NumberOfSales']\n",
    "X_test=test.drop(['StoreID','Date', 'NumberOfSales', 'Region','Mean_Dew_PointC'], axis=1)"
   ]
  },
  {
   "cell_type": "code",
   "execution_count": 25,
   "metadata": {},
   "outputs": [],
   "source": [
    "X=train.drop(['StoreID','Date', 'NumberOfSales', 'Region','Mean_Dew_PointC'], axis=1)"
   ]
  },
  {
   "cell_type": "code",
   "execution_count": 26,
   "metadata": {},
   "outputs": [],
   "source": [
    "forest = RandomForestRegressor(max_depth=40, random_state=0, n_estimators=201, max_features=21, n_jobs=-1)\n",
    "forest.fit(X, y)\n",
    "y_pred_test=forest.predict(X_test)"
   ]
  },
  {
   "cell_type": "code",
   "execution_count": 27,
   "metadata": {},
   "outputs": [],
   "source": [
    "y_test=y_test.reset_index(drop=True)\n",
    "test=test.reset_index(drop=True)"
   ]
  },
  {
   "cell_type": "code",
   "execution_count": 28,
   "metadata": {},
   "outputs": [],
   "source": [
    "columns=['Date', 'StoreID', 'RegionID', 'SalesPredicted', 'SalesReal']\n",
    "index=range(y_test.shape[0])\n",
    "result=pd.DataFrame(index=index,columns=columns)\n",
    "result['Date']=test['Date']\n",
    "result['StoreID']=test['StoreID']\n",
    "result['RegionID']=test['Region']\n",
    "result['SalesPredicted']=y_pred_test\n",
    "result['SalesReal']=y_test"
   ]
  },
  {
   "cell_type": "code",
   "execution_count": 29,
   "metadata": {
    "scrolled": true
   },
   "outputs": [
    {
     "data": {
      "text/html": [
       "<div>\n",
       "<style scoped>\n",
       "    .dataframe tbody tr th:only-of-type {\n",
       "        vertical-align: middle;\n",
       "    }\n",
       "\n",
       "    .dataframe tbody tr th {\n",
       "        vertical-align: top;\n",
       "    }\n",
       "\n",
       "    .dataframe thead th {\n",
       "        text-align: right;\n",
       "    }\n",
       "</style>\n",
       "<table border=\"1\" class=\"dataframe\">\n",
       "  <thead>\n",
       "    <tr style=\"text-align: right;\">\n",
       "      <th></th>\n",
       "      <th>Date</th>\n",
       "      <th>StoreID</th>\n",
       "      <th>RegionID</th>\n",
       "      <th>SalesPredicted</th>\n",
       "      <th>SalesReal</th>\n",
       "    </tr>\n",
       "  </thead>\n",
       "  <tbody>\n",
       "    <tr>\n",
       "      <th>0</th>\n",
       "      <td>2018-01-01</td>\n",
       "      <td>1000</td>\n",
       "      <td>7</td>\n",
       "      <td>9398.631841</td>\n",
       "      <td>8540.0</td>\n",
       "    </tr>\n",
       "    <tr>\n",
       "      <th>1</th>\n",
       "      <td>2018-01-02</td>\n",
       "      <td>1000</td>\n",
       "      <td>7</td>\n",
       "      <td>6781.164179</td>\n",
       "      <td>10364.0</td>\n",
       "    </tr>\n",
       "    <tr>\n",
       "      <th>2</th>\n",
       "      <td>2018-01-03</td>\n",
       "      <td>1000</td>\n",
       "      <td>7</td>\n",
       "      <td>6190.099502</td>\n",
       "      <td>4676.0</td>\n",
       "    </tr>\n",
       "    <tr>\n",
       "      <th>3</th>\n",
       "      <td>2018-01-05</td>\n",
       "      <td>1000</td>\n",
       "      <td>7</td>\n",
       "      <td>8987.298507</td>\n",
       "      <td>6267.0</td>\n",
       "    </tr>\n",
       "    <tr>\n",
       "      <th>4</th>\n",
       "      <td>2018-01-06</td>\n",
       "      <td>1000</td>\n",
       "      <td>7</td>\n",
       "      <td>6291.850746</td>\n",
       "      <td>5953.0</td>\n",
       "    </tr>\n",
       "  </tbody>\n",
       "</table>\n",
       "</div>"
      ],
      "text/plain": [
       "         Date  StoreID  RegionID  SalesPredicted  SalesReal\n",
       "0  2018-01-01     1000         7     9398.631841     8540.0\n",
       "1  2018-01-02     1000         7     6781.164179    10364.0\n",
       "2  2018-01-03     1000         7     6190.099502     4676.0\n",
       "3  2018-01-05     1000         7     8987.298507     6267.0\n",
       "4  2018-01-06     1000         7     6291.850746     5953.0"
      ]
     },
     "execution_count": 29,
     "metadata": {},
     "output_type": "execute_result"
    }
   ],
   "source": [
    "result.head(5)"
   ]
  },
  {
   "cell_type": "code",
   "execution_count": 31,
   "metadata": {},
   "outputs": [],
   "source": [
    "result.to_csv(\"results/results_rf.csv\")"
   ]
  },
  {
   "cell_type": "code",
   "execution_count": 32,
   "metadata": {},
   "outputs": [
    {
     "data": {
      "text/plain": [
       "586.153249529348"
      ]
     },
     "execution_count": 32,
     "metadata": {},
     "output_type": "execute_result"
    }
   ],
   "source": [
    "mean_absolute_error(y_pred_test,y_test)"
   ]
  },
  {
   "cell_type": "code",
   "execution_count": null,
   "metadata": {},
   "outputs": [],
   "source": []
  }
 ],
 "metadata": {
  "anaconda-cloud": {},
  "kernelspec": {
   "display_name": "Python 3",
   "language": "python",
   "name": "python3"
  },
  "language_info": {
   "codemirror_mode": {
    "name": "ipython",
    "version": 3
   },
   "file_extension": ".py",
   "mimetype": "text/x-python",
   "name": "python",
   "nbconvert_exporter": "python",
   "pygments_lexer": "ipython3",
   "version": "3.6.4"
  }
 },
 "nbformat": 4,
 "nbformat_minor": 2
}
