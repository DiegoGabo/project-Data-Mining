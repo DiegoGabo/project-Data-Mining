{
 "cells": [
  {
   "cell_type": "code",
   "execution_count": 1,
   "metadata": {
    "collapsed": false
   },
   "outputs": [],
   "source": [
    "#Importing library\n",
    "\n",
    "import numpy as np\n",
    "import pandas as pd\n",
    "import seaborn as sns\n",
    "import matplotlib.pyplot as plt\n",
    "import datetime\n",
    "#import xgboost as xgb\n",
    "\n",
    "from scipy import stats\n",
    "from scipy.stats import skew\n",
    "from scipy.stats import norm\n",
    "from scipy.stats.stats import pearsonr\n",
    "from sklearn.datasets import make_regression\n",
    "from sklearn.feature_selection import SelectFromModel\n",
    "from xgboost.sklearn import XGBRegressor\n",
    "from sklearn.metrics import mean_squared_error\n",
    "from sklearn.metrics import mean_absolute_error\n",
    "from math import sqrt\n",
    "\n",
    "\n",
    "%matplotlib inline\n",
    "%config InlineBackend.figure_format = 'retina'"
   ]
  },
  {
   "cell_type": "markdown",
   "metadata": {},
   "source": [
    "We load the training set and the validation set which have been already preprocessed"
   ]
  },
  {
   "cell_type": "code",
   "execution_count": 2,
   "metadata": {
    "collapsed": false
   },
   "outputs": [],
   "source": [
    "#Importing dataset\n",
    "train_complete = pd.read_csv(\"../dataset/processed1/train_no_val2.csv\", index_col=0)\n",
    "train = train_complete.loc[(train_complete['Date'] <  '2017-11-01')]\n",
    "\n",
    "val1 = train_complete.loc[(train_complete['Date'] >= '2017-11-0')]\n",
    "val2 = pd.read_csv(\"../dataset/processed1/val2.csv\", index_col=0)"
   ]
  },
  {
   "cell_type": "code",
   "execution_count": 3,
   "metadata": {
    "collapsed": false
   },
   "outputs": [
    {
     "name": "stderr",
     "output_type": "stream",
     "text": [
      "D:\\Programmi\\Anaconda3\\lib\\site-packages\\pandas\\core\\generic.py:2701: SettingWithCopyWarning: \n",
      "A value is trying to be set on a copy of a slice from a DataFrame.\n",
      "Try using .loc[row_indexer,col_indexer] = value instead\n",
      "\n",
      "See the caveats in the documentation: http://pandas.pydata.org/pandas-docs/stable/indexing.html#indexing-view-versus-copy\n",
      "  self[name] = value\n"
     ]
    }
   ],
   "source": [
    "train.OrdinalDate = train.OrdinalDate.map(lambda x: x % 365)\n",
    "train_complete.OrdinalDate = train_complete.OrdinalDate.map(lambda x: x % 365)\n",
    "\n",
    "val1.OrdinalDate = val1.OrdinalDate.map(lambda x: x % 365)\n",
    "val2.OrdinalDate = val2.OrdinalDate.map(lambda x: x % 365)"
   ]
  },
  {
   "cell_type": "markdown",
   "metadata": {},
   "source": [
    "We prepare the training input samples and the labels for all the sets"
   ]
  },
  {
   "cell_type": "code",
   "execution_count": 4,
   "metadata": {
    "collapsed": false
   },
   "outputs": [],
   "source": [
    "X=train.drop(['StoreID','Date', 'NumberOfSales', 'Region'], axis=1)\n",
    "X_complete=train_complete.drop(['StoreID','Date', 'NumberOfSales', 'Region'], axis=1)\n",
    "X_val1=val1.drop(['StoreID','Date', 'NumberOfSales', 'Region'], axis=1)\n",
    "X_val2=val2.drop(['StoreID','Date', 'NumberOfSales', 'Region'], axis=1)\n",
    "\n",
    "y=train['NumberOfSales']\n",
    "y_complete=train_complete['NumberOfSales']\n",
    "y_val1=val1['NumberOfSales']\n",
    "y_val2=val2['NumberOfSales']"
   ]
  },
  {
   "cell_type": "markdown",
   "metadata": {},
   "source": [
    "We try to find good hyperparameter in xGBoost. First of all we try to find good values for max_depth and colsample_bytree "
   ]
  },
  {
   "cell_type": "code",
   "execution_count": null,
   "metadata": {
    "collapsed": false,
    "scrolled": true
   },
   "outputs": [],
   "source": [
    "depth_range = range(15,17)\n",
    "col_range = [0.59, 0.6, 0.61]\n",
    "\n",
    "for d in depth_range:\n",
    "    for col in col_range:\n",
    "            xclas = XGBRegressor(subsample=0.7, eta=0.3, max_depth=d, \n",
    "                                 colsample_bytree=col, nthread=4,\n",
    "                                 min_child_weight=5, gamma=0,\n",
    "                                 n_estimators=50)  \n",
    "            xclas.fit(X, y)   \n",
    "            y_pred = xclas.predict(X_val1) \n",
    "            mae_val1=mean_absolute_error(y_val1,y_pred)\n",
    "\n",
    "            print(\"max_depth= \", d, \" colsample_bytree= \", col, \" mae= \", mae_val1)"
   ]
  },
  {
   "cell_type": "markdown",
   "metadata": {},
   "source": [
    "At the end predict the validation error on val2 and we compute the csv in which there is the result"
   ]
  },
  {
   "cell_type": "code",
   "execution_count": 5,
   "metadata": {
    "collapsed": false
   },
   "outputs": [
    {
     "name": "stdout",
     "output_type": "stream",
     "text": [
      "mae_val2= 566.361252644\n"
     ]
    }
   ],
   "source": [
    "xclas = XGBRegressor(subsample=0.6, eta=0.3, max_depth=15, \n",
    "                         colsample_bytree=0.6, nthread=4,\n",
    "                         min_child_weight=5, gamma=0,\n",
    "                         n_estimators=50)  \n",
    "\n",
    "xclas.fit(X_complete, y_complete)  \n",
    "\n",
    "y_pred_val2 = xclas.predict(X_val2) \n",
    "mae_val2=mean_absolute_error(y_val2,y_pred_val2)\n",
    "\n",
    "print(\"mae_val2=\",mae_val2)"
   ]
  },
  {
   "cell_type": "code",
   "execution_count": 8,
   "metadata": {
    "collapsed": false
   },
   "outputs": [],
   "source": [
    "val2=val2.reset_index(drop=True)\n",
    "y_val2 = y_val2.reset_index(drop=True)\n",
    "\n",
    "columns=['Date', 'StoreID', 'RegionID', 'SalesPredicted', 'SalesReal']\n",
    "index=range(y_val2.shape[0])\n",
    "result=pd.DataFrame(index=index,columns=columns)\n",
    "\n",
    "result['Date']=val2['Date']\n",
    "result['StoreID']=val2['StoreID']\n",
    "result['RegionID']=val2['Region']\n",
    "result['SalesPredicted']=y_pred_val2\n",
    "result['SalesReal']=y_val2\n",
    "\n",
    "result.to_csv(\"results_xg.csv\")"
   ]
  },
  {
   "cell_type": "code",
   "execution_count": 6,
   "metadata": {
    "collapsed": true
   },
   "outputs": [],
   "source": [
    "def errore(ypred, y, val):\n",
    "    val=val.reset_index(drop=True)\n",
    "    y = y.reset_index(drop=True)\n",
    "\n",
    "    columns=['Date', 'StoreID', 'RegionID', 'SalesPredicted', 'SalesReal']\n",
    "    index=range(y.shape[0])\n",
    "    result=pd.DataFrame(index=index,columns=columns)\n",
    "\n",
    "    result['Date']=val['Date']\n",
    "    result['StoreID']=val['StoreID']\n",
    "    result['RegionID']=val['Region']\n",
    "    result['SalesPredicted']=ypred\n",
    "    result['SalesReal']=y\n",
    "    \n",
    "\n",
    "    # Transform dates from '%Y-%m-%d' to datetime objects.\n",
    "    def transform_date(x):\n",
    "        date = datetime.datetime.strptime(x, '%Y-%m-%d')\n",
    "        return date\n",
    "\n",
    "    result['Date'] = result['Date'].map(transform_date)\n",
    "    result['Month'] = result.Date.map(lambda d: d.strftime('%Y-%m'))\n",
    "    result = result.groupby(['StoreID', 'RegionID', 'Month']).sum().reset_index()[['Month', 'StoreID', 'RegionID', 'SalesPredicted', 'SalesReal']]\n",
    "\n",
    "    result['SalesError'] = abs(result.SalesPredicted - result.SalesReal)\n",
    "\n",
    "    region_error = (result.groupby('RegionID').sum().SalesError / result.groupby('RegionID').sum().SalesReal).reset_index().rename(columns={0: 'RegionError'}).set_index('RegionID')\n",
    "    total_error = np.mean(region_error.RegionError)\n",
    "    return total_error"
   ]
  },
  {
   "cell_type": "code",
   "execution_count": 7,
   "metadata": {
    "collapsed": false
   },
   "outputs": [
    {
     "data": {
      "text/plain": [
       "0.06101349388459094"
      ]
     },
     "execution_count": 7,
     "metadata": {},
     "output_type": "execute_result"
    }
   ],
   "source": [
    "errore(y_pred_val2, y_val2, val2)"
   ]
  }
 ],
 "metadata": {
  "anaconda-cloud": {},
  "kernelspec": {
   "display_name": "Python [default]",
   "language": "python",
   "name": "python3"
  },
  "language_info": {
   "codemirror_mode": {
    "name": "ipython",
    "version": 3
   },
   "file_extension": ".py",
   "mimetype": "text/x-python",
   "name": "python",
   "nbconvert_exporter": "python",
   "pygments_lexer": "ipython3",
   "version": "3.5.2"
  }
 },
 "nbformat": 4,
 "nbformat_minor": 2
}
