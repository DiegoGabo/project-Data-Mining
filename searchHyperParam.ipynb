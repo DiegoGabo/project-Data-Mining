{
 "cells": [
  {
   "cell_type": "code",
   "execution_count": 1,
   "metadata": {},
   "outputs": [],
   "source": [
    "#Importing library\n",
    "\n",
    "import numpy as np\n",
    "import pandas as pd\n",
    "import seaborn as sns\n",
    "import matplotlib\n",
    "import matplotlib.pyplot as plt\n",
    "\n",
    "from scipy import stats\n",
    "from scipy.stats import skew\n",
    "from scipy.stats import norm\n",
    "from scipy.stats.stats import pearsonr\n",
    "from sklearn.ensemble import RandomForestRegressor\n",
    "from sklearn.datasets import make_regression\n",
    "from sklearn.ensemble import ExtraTreesRegressor\n",
    "from sklearn.metrics import mean_squared_error\n",
    "from math import sqrt\n",
    "\n",
    "\n",
    "%matplotlib inline\n",
    "%config InlineBackend.figure_format = 'retina'"
   ]
  },
  {
   "cell_type": "code",
   "execution_count": 2,
   "metadata": {},
   "outputs": [],
   "source": [
    "df = pd.read_csv(\"dataset/train_processed.csv\")"
   ]
  },
  {
   "cell_type": "code",
   "execution_count": 3,
   "metadata": {},
   "outputs": [
    {
     "data": {
      "text/html": [
       "<div>\n",
       "<style scoped>\n",
       "    .dataframe tbody tr th:only-of-type {\n",
       "        vertical-align: middle;\n",
       "    }\n",
       "\n",
       "    .dataframe tbody tr th {\n",
       "        vertical-align: top;\n",
       "    }\n",
       "\n",
       "    .dataframe thead th {\n",
       "        text-align: right;\n",
       "    }\n",
       "</style>\n",
       "<table border=\"1\" class=\"dataframe\">\n",
       "  <thead>\n",
       "    <tr style=\"text-align: right;\">\n",
       "      <th></th>\n",
       "      <th>Unnamed: 0</th>\n",
       "      <th>IsHoliday</th>\n",
       "      <th>IsOpen</th>\n",
       "      <th>HasPromotions</th>\n",
       "      <th>StoreType</th>\n",
       "      <th>NearestCompetitor</th>\n",
       "      <th>NumberOfCustomers</th>\n",
       "      <th>NumberOfSales</th>\n",
       "      <th>Region_AreaKM2</th>\n",
       "      <th>Region_GDP</th>\n",
       "      <th>...</th>\n",
       "      <th>IsSaturday</th>\n",
       "      <th>IsSunday</th>\n",
       "      <th>WasOpenYesterday</th>\n",
       "      <th>IsOpenTomorrow</th>\n",
       "      <th>YesterdaySales</th>\n",
       "      <th>Previous3DaysSales</th>\n",
       "      <th>PreviousWeekSales</th>\n",
       "      <th>PreviousMonthSales</th>\n",
       "      <th>Date</th>\n",
       "      <th>StoreID</th>\n",
       "    </tr>\n",
       "  </thead>\n",
       "  <tbody>\n",
       "    <tr>\n",
       "      <th>0</th>\n",
       "      <td>0.000000</td>\n",
       "      <td>0.0</td>\n",
       "      <td>1.0</td>\n",
       "      <td>1.0</td>\n",
       "      <td>0.666667</td>\n",
       "      <td>0.003281</td>\n",
       "      <td>0.383500</td>\n",
       "      <td>0.446943</td>\n",
       "      <td>0.291715</td>\n",
       "      <td>0.515529</td>\n",
       "      <td>...</td>\n",
       "      <td>0.0</td>\n",
       "      <td>0.0</td>\n",
       "      <td>1.0</td>\n",
       "      <td>0.0</td>\n",
       "      <td>0.339890</td>\n",
       "      <td>0.363301</td>\n",
       "      <td>0.355788</td>\n",
       "      <td>0.372606</td>\n",
       "      <td>2016-03-31</td>\n",
       "      <td>1000</td>\n",
       "    </tr>\n",
       "    <tr>\n",
       "      <th>1</th>\n",
       "      <td>0.000002</td>\n",
       "      <td>1.0</td>\n",
       "      <td>0.0</td>\n",
       "      <td>1.0</td>\n",
       "      <td>0.666667</td>\n",
       "      <td>0.003281</td>\n",
       "      <td>0.000000</td>\n",
       "      <td>0.000000</td>\n",
       "      <td>0.291715</td>\n",
       "      <td>0.515529</td>\n",
       "      <td>...</td>\n",
       "      <td>0.0</td>\n",
       "      <td>0.0</td>\n",
       "      <td>1.0</td>\n",
       "      <td>1.0</td>\n",
       "      <td>0.446943</td>\n",
       "      <td>0.409861</td>\n",
       "      <td>0.384367</td>\n",
       "      <td>0.384941</td>\n",
       "      <td>2016-04-01</td>\n",
       "      <td>1000</td>\n",
       "    </tr>\n",
       "    <tr>\n",
       "      <th>2</th>\n",
       "      <td>0.000004</td>\n",
       "      <td>0.0</td>\n",
       "      <td>1.0</td>\n",
       "      <td>0.0</td>\n",
       "      <td>0.666667</td>\n",
       "      <td>0.003281</td>\n",
       "      <td>0.385766</td>\n",
       "      <td>0.417740</td>\n",
       "      <td>0.291715</td>\n",
       "      <td>0.515529</td>\n",
       "      <td>...</td>\n",
       "      <td>1.0</td>\n",
       "      <td>0.0</td>\n",
       "      <td>0.0</td>\n",
       "      <td>0.0</td>\n",
       "      <td>0.000000</td>\n",
       "      <td>0.290735</td>\n",
       "      <td>0.326042</td>\n",
       "      <td>0.368885</td>\n",
       "      <td>2016-04-02</td>\n",
       "      <td>1000</td>\n",
       "    </tr>\n",
       "    <tr>\n",
       "      <th>3</th>\n",
       "      <td>0.000006</td>\n",
       "      <td>0.0</td>\n",
       "      <td>0.0</td>\n",
       "      <td>0.0</td>\n",
       "      <td>0.666667</td>\n",
       "      <td>0.003281</td>\n",
       "      <td>0.000000</td>\n",
       "      <td>0.000000</td>\n",
       "      <td>0.291715</td>\n",
       "      <td>0.515529</td>\n",
       "      <td>...</td>\n",
       "      <td>0.0</td>\n",
       "      <td>1.0</td>\n",
       "      <td>1.0</td>\n",
       "      <td>0.0</td>\n",
       "      <td>0.417740</td>\n",
       "      <td>0.319501</td>\n",
       "      <td>0.363920</td>\n",
       "      <td>0.377885</td>\n",
       "      <td>2016-04-03</td>\n",
       "      <td>1000</td>\n",
       "    </tr>\n",
       "    <tr>\n",
       "      <th>4</th>\n",
       "      <td>0.000008</td>\n",
       "      <td>1.0</td>\n",
       "      <td>0.0</td>\n",
       "      <td>0.0</td>\n",
       "      <td>0.666667</td>\n",
       "      <td>0.003281</td>\n",
       "      <td>0.000000</td>\n",
       "      <td>0.000000</td>\n",
       "      <td>0.291715</td>\n",
       "      <td>0.515529</td>\n",
       "      <td>...</td>\n",
       "      <td>0.0</td>\n",
       "      <td>0.0</td>\n",
       "      <td>0.0</td>\n",
       "      <td>1.0</td>\n",
       "      <td>0.000000</td>\n",
       "      <td>0.154355</td>\n",
       "      <td>0.363920</td>\n",
       "      <td>0.362002</td>\n",
       "      <td>2016-04-04</td>\n",
       "      <td>1000</td>\n",
       "    </tr>\n",
       "  </tbody>\n",
       "</table>\n",
       "<p>5 rows × 49 columns</p>\n",
       "</div>"
      ],
      "text/plain": [
       "   Unnamed: 0  IsHoliday  IsOpen  HasPromotions  StoreType  NearestCompetitor  \\\n",
       "0    0.000000        0.0     1.0            1.0   0.666667           0.003281   \n",
       "1    0.000002        1.0     0.0            1.0   0.666667           0.003281   \n",
       "2    0.000004        0.0     1.0            0.0   0.666667           0.003281   \n",
       "3    0.000006        0.0     0.0            0.0   0.666667           0.003281   \n",
       "4    0.000008        1.0     0.0            0.0   0.666667           0.003281   \n",
       "\n",
       "   NumberOfCustomers  NumberOfSales  Region_AreaKM2  Region_GDP   ...     \\\n",
       "0           0.383500       0.446943        0.291715    0.515529   ...      \n",
       "1           0.000000       0.000000        0.291715    0.515529   ...      \n",
       "2           0.385766       0.417740        0.291715    0.515529   ...      \n",
       "3           0.000000       0.000000        0.291715    0.515529   ...      \n",
       "4           0.000000       0.000000        0.291715    0.515529   ...      \n",
       "\n",
       "   IsSaturday  IsSunday  WasOpenYesterday  IsOpenTomorrow  YesterdaySales  \\\n",
       "0         0.0       0.0               1.0             0.0        0.339890   \n",
       "1         0.0       0.0               1.0             1.0        0.446943   \n",
       "2         1.0       0.0               0.0             0.0        0.000000   \n",
       "3         0.0       1.0               1.0             0.0        0.417740   \n",
       "4         0.0       0.0               0.0             1.0        0.000000   \n",
       "\n",
       "   Previous3DaysSales  PreviousWeekSales  PreviousMonthSales        Date  \\\n",
       "0            0.363301           0.355788            0.372606  2016-03-31   \n",
       "1            0.409861           0.384367            0.384941  2016-04-01   \n",
       "2            0.290735           0.326042            0.368885  2016-04-02   \n",
       "3            0.319501           0.363920            0.377885  2016-04-03   \n",
       "4            0.154355           0.363920            0.362002  2016-04-04   \n",
       "\n",
       "   StoreID  \n",
       "0     1000  \n",
       "1     1000  \n",
       "2     1000  \n",
       "3     1000  \n",
       "4     1000  \n",
       "\n",
       "[5 rows x 49 columns]"
      ]
     },
     "execution_count": 3,
     "metadata": {},
     "output_type": "execute_result"
    }
   ],
   "source": [
    "df_date=df['Date']\n",
    "df_id=df['StoreID']\n",
    "df_no_date=df.drop(['Date'], axis=1)\n",
    "df_no_date=df.drop(['Date','StoreID'], axis=1)\n",
    "df_norm= (df_no_date - df_no_date.min()) / (df_no_date.max() - df_no_date.min())\n",
    "df=df_norm\n",
    "df['Date']=df_date\n",
    "df['StoreID']=df_id\n",
    "df.head(5)"
   ]
  },
  {
   "cell_type": "code",
   "execution_count": 4,
   "metadata": {},
   "outputs": [],
   "source": [
    "df_val3=df.loc[(df['Date']>='2018-01-01')]\n",
    "df_val3_rest=df.loc[(df['Date']<'2018-01-01')]\n",
    "df_val2=df_val3_rest.loc[(df_val3_rest['Date']>='2017-11-01')]\n",
    "df_val2_rest=df.loc[(df['Date']<'2017-11-01')]\n",
    "df_val1=df_val2_rest.loc[(df_val2_rest['Date']>='2017-09-01')]\n",
    "df_train=df.loc[(df['Date']<'2017-09-01')]"
   ]
  },
  {
   "cell_type": "code",
   "execution_count": 5,
   "metadata": {},
   "outputs": [],
   "source": [
    "df_train_clear=df_train.drop(['Date'], axis=1)\n",
    "df_val1_clear=df_val1.drop(['Date'], axis=1)\n",
    "df_val2_clear=df_val2.drop(['Date'], axis=1)\n",
    "df_val3_clear=df_val3.drop(['Date'], axis=1)"
   ]
  },
  {
   "cell_type": "code",
   "execution_count": 6,
   "metadata": {},
   "outputs": [],
   "source": [
    "y_alldt=df_train_clear[(['StoreID','NumberOfSales'])]\n",
    "y_val1_alldt=df_val1_clear[(['StoreID','NumberOfSales'])]\n",
    "y_val2_alldt=df_val2_clear[(['StoreID','NumberOfSales'])]\n",
    "y_val3_alldt=df_val3_clear[(['StoreID','NumberOfSales'])]"
   ]
  },
  {
   "cell_type": "code",
   "execution_count": 7,
   "metadata": {},
   "outputs": [],
   "source": [
    "X_alldt=df_train_clear.drop(['Unnamed: 0','NumberOfSales','NumberOfCustomers','YesterdaySales','Previous3DaysSales','PreviousWeekSales','PreviousMonthSales'], axis=1)\n",
    "X_val1_alldt=df_val1_clear.drop(['Unnamed: 0','NumberOfSales','NumberOfCustomers','YesterdaySales','Previous3DaysSales','PreviousWeekSales','PreviousMonthSales'], axis=1)\n",
    "X_val2_alldt=df_val2_clear.drop(['Unnamed: 0','NumberOfSales','NumberOfCustomers','YesterdaySales','Previous3DaysSales','PreviousWeekSales','PreviousMonthSales'], axis=1)\n",
    "X_val3_alldt=df_val3_clear.drop(['Unnamed: 0','NumberOfSales','NumberOfCustomers','YesterdaySales','Previous3DaysSales','PreviousWeekSales','PreviousMonthSales'], axis=1)"
   ]
  },
  {
   "cell_type": "markdown",
   "metadata": {},
   "source": [
    "print (X_alldt.head(5))\n",
    "print (y_alldt.head(5))\n",
    "print( X_alldt['StoreID'].unique())"
   ]
  },
  {
   "cell_type": "code",
   "execution_count": 8,
   "metadata": {},
   "outputs": [],
   "source": [
    "X=X_alldt.loc[(X_alldt['StoreID']==1006)]\n",
    "y=y_alldt.loc[(y_alldt['StoreID']==1006)]\n",
    "X_val1=X_val1_alldt.loc[(X_val1_alldt['StoreID']==1006)]\n",
    "y_val1=y_val1_alldt.loc[(y_val1_alldt['StoreID']==1006)]"
   ]
  },
  {
   "cell_type": "code",
   "execution_count": 9,
   "metadata": {},
   "outputs": [],
   "source": [
    "X=X.drop(['StoreID'], axis=1)\n",
    "y=y.drop(['StoreID'], axis=1)\n",
    "X_val1=X_val1.drop(['StoreID'], axis=1)\n",
    "y_val1=y_val1.drop(['StoreID'], axis=1)"
   ]
  },
  {
   "cell_type": "code",
   "execution_count": 10,
   "metadata": {},
   "outputs": [
    {
     "name": "stdout",
     "output_type": "stream",
     "text": [
      "(519, 40)\n",
      "(519,)\n",
      "(61, 40)\n",
      "(61,)\n"
     ]
    }
   ],
   "source": [
    "y=y['NumberOfSales']\n",
    "y_val1=y_val1['NumberOfSales']\n",
    "print(X.shape)\n",
    "print(y.shape)\n",
    "print(X_val1.shape)\n",
    "print(y_val1.shape)\n"
   ]
  },
  {
   "cell_type": "code",
   "execution_count": 11,
   "metadata": {},
   "outputs": [],
   "source": [
    "columns=['num_of_param','num_of_tree','depth','mse']\n",
    "index=range(1,2500)\n",
    "hyp_par=pd.DataFrame(index=index,columns=columns)"
   ]
  },
  {
   "cell_type": "code",
   "execution_count": 12,
   "metadata": {},
   "outputs": [],
   "source": [
    "count=0\n",
    "min=1\n",
    "depth=25\n",
    "nt=33\n",
    "for na in range(1,41,1):\n",
    "    forest = RandomForestRegressor(max_depth=depth, random_state=0, n_estimators=nt, max_features=na, n_jobs=-1)\n",
    "    forest.fit(X, y)\n",
    "    y_pred=forest.predict(X_val1)\n",
    "    hyp_par.at[count,'num_of_param']=na\n",
    "    hyp_par.at[count,'mse']=mean_squared_error(y_val1,y_pred)\n",
    "    count+=1"
   ]
  },
  {
   "cell_type": "code",
   "execution_count": 13,
   "metadata": {},
   "outputs": [
    {
     "data": {
      "text/plain": [
       "[25, 12, 18, 15, 10, 13, 9, 24, 14, 17]"
      ]
     },
     "execution_count": 13,
     "metadata": {},
     "output_type": "execute_result"
    }
   ],
   "source": [
    "hyp_par_sort=hyp_par.sort_values(['mse'])\n",
    "best10=hyp_par_sort.head(10)\n",
    "best10=best10['num_of_param'].astype(int)\n",
    "best10A=list(best10.values)\n",
    "best10A"
   ]
  },
  {
   "cell_type": "code",
   "execution_count": 14,
   "metadata": {},
   "outputs": [
    {
     "name": "stdout",
     "output_type": "stream",
     "text": [
      "25\n",
      "12\n",
      "18\n",
      "15\n",
      "10\n",
      "13\n",
      "9\n",
      "24\n",
      "14\n",
      "17\n"
     ]
    }
   ],
   "source": [
    "count=0\n",
    "min=1\n",
    "depth=25\n",
    "for na in best10A:\n",
    "    for nt in range(1,250,10):\n",
    "        forest = RandomForestRegressor(max_depth=depth, random_state=0, n_estimators=nt, max_features=na, n_jobs=-1)\n",
    "        forest.fit(X, y)\n",
    "        y_pred=forest.predict(X_val1)\n",
    "        hyp_par.at[count,'num_of_param']=na\n",
    "        hyp_par.at[count,'num_of_tree']=nt\n",
    "        hyp_par.at[count,'mse']=mean_squared_error(y_val1,y_pred)\n",
    "        count+=1\n",
    "    print(na)"
   ]
  },
  {
   "cell_type": "code",
   "execution_count": 15,
   "metadata": {},
   "outputs": [
    {
     "name": "stdout",
     "output_type": "stream",
     "text": [
      "[14, 25, 9, 15, 25, 25, 15, 15, 25, 9]\n",
      "[11, 21, 21, 101, 31, 41, 111, 121, 11, 11]\n"
     ]
    }
   ],
   "source": [
    "hyp_par_sort=hyp_par.sort_values(['mse'])\n",
    "best10=hyp_par_sort.head(10)\n",
    "best10A=best10['num_of_param'].astype(int)\n",
    "best10A=list(best10A.values)\n",
    "best10B=best10['num_of_tree'].astype(int)\n",
    "best10B=list(best10B.values)\n",
    "print(best10A)\n",
    "print(best10B)"
   ]
  },
  {
   "cell_type": "code",
   "execution_count": 16,
   "metadata": {},
   "outputs": [
    {
     "name": "stdout",
     "output_type": "stream",
     "text": [
      "0\n",
      "1\n",
      "2\n",
      "3\n",
      "4\n",
      "5\n",
      "6\n",
      "7\n",
      "8\n",
      "9\n"
     ]
    }
   ],
   "source": [
    "count=0\n",
    "min=1\n",
    "for num in range(0,10,1):\n",
    "    for depth in range(1,100,5):\n",
    "        forest = RandomForestRegressor(max_depth=depth, random_state=0, n_estimators=best10B[num], max_features=best10A[num], n_jobs=-1)\n",
    "        forest.fit(X, y)\n",
    "        y_pred=forest.predict(X_val1)\n",
    "        hyp_par.at[count,'num_of_param']=best10A[num]\n",
    "        hyp_par.at[count,'num_of_tree']=best10B[num]\n",
    "        hyp_par.at[count,'depth']=depth\n",
    "        hyp_par.at[count,'mse']=mean_squared_error(y_val1,y_pred)\n",
    "        count+=1\n",
    "    print(num)"
   ]
  },
  {
   "cell_type": "code",
   "execution_count": 17,
   "metadata": {},
   "outputs": [
    {
     "data": {
      "text/html": [
       "<div>\n",
       "<style scoped>\n",
       "    .dataframe tbody tr th:only-of-type {\n",
       "        vertical-align: middle;\n",
       "    }\n",
       "\n",
       "    .dataframe tbody tr th {\n",
       "        vertical-align: top;\n",
       "    }\n",
       "\n",
       "    .dataframe thead th {\n",
       "        text-align: right;\n",
       "    }\n",
       "</style>\n",
       "<table border=\"1\" class=\"dataframe\">\n",
       "  <thead>\n",
       "    <tr style=\"text-align: right;\">\n",
       "      <th></th>\n",
       "      <th>num_of_param</th>\n",
       "      <th>num_of_tree</th>\n",
       "      <th>depth</th>\n",
       "      <th>mse</th>\n",
       "    </tr>\n",
       "  </thead>\n",
       "  <tbody>\n",
       "    <tr>\n",
       "      <th>7</th>\n",
       "      <td>14</td>\n",
       "      <td>11</td>\n",
       "      <td>36</td>\n",
       "      <td>0.000855137</td>\n",
       "    </tr>\n",
       "    <tr>\n",
       "      <th>201</th>\n",
       "      <td>14</td>\n",
       "      <td>11</td>\n",
       "      <td>NaN</td>\n",
       "      <td>0.000855137</td>\n",
       "    </tr>\n",
       "    <tr>\n",
       "      <th>11</th>\n",
       "      <td>14</td>\n",
       "      <td>11</td>\n",
       "      <td>56</td>\n",
       "      <td>0.000855137</td>\n",
       "    </tr>\n",
       "    <tr>\n",
       "      <th>8</th>\n",
       "      <td>14</td>\n",
       "      <td>11</td>\n",
       "      <td>41</td>\n",
       "      <td>0.000855137</td>\n",
       "    </tr>\n",
       "    <tr>\n",
       "      <th>14</th>\n",
       "      <td>14</td>\n",
       "      <td>11</td>\n",
       "      <td>71</td>\n",
       "      <td>0.000855137</td>\n",
       "    </tr>\n",
       "    <tr>\n",
       "      <th>12</th>\n",
       "      <td>14</td>\n",
       "      <td>11</td>\n",
       "      <td>61</td>\n",
       "      <td>0.000855137</td>\n",
       "    </tr>\n",
       "    <tr>\n",
       "      <th>19</th>\n",
       "      <td>14</td>\n",
       "      <td>11</td>\n",
       "      <td>96</td>\n",
       "      <td>0.000855137</td>\n",
       "    </tr>\n",
       "    <tr>\n",
       "      <th>5</th>\n",
       "      <td>14</td>\n",
       "      <td>11</td>\n",
       "      <td>26</td>\n",
       "      <td>0.000855137</td>\n",
       "    </tr>\n",
       "    <tr>\n",
       "      <th>13</th>\n",
       "      <td>14</td>\n",
       "      <td>11</td>\n",
       "      <td>66</td>\n",
       "      <td>0.000855137</td>\n",
       "    </tr>\n",
       "    <tr>\n",
       "      <th>6</th>\n",
       "      <td>14</td>\n",
       "      <td>11</td>\n",
       "      <td>31</td>\n",
       "      <td>0.000855137</td>\n",
       "    </tr>\n",
       "  </tbody>\n",
       "</table>\n",
       "</div>"
      ],
      "text/plain": [
       "    num_of_param num_of_tree depth          mse\n",
       "7             14          11    36  0.000855137\n",
       "201           14          11   NaN  0.000855137\n",
       "11            14          11    56  0.000855137\n",
       "8             14          11    41  0.000855137\n",
       "14            14          11    71  0.000855137\n",
       "12            14          11    61  0.000855137\n",
       "19            14          11    96  0.000855137\n",
       "5             14          11    26  0.000855137\n",
       "13            14          11    66  0.000855137\n",
       "6             14          11    31  0.000855137"
      ]
     },
     "execution_count": 17,
     "metadata": {},
     "output_type": "execute_result"
    }
   ],
   "source": [
    "hyp_par_sort=hyp_par.sort_values(['mse'])\n",
    "hyp_par_sort.head(10)"
   ]
  }
 ],
 "metadata": {
  "kernelspec": {
   "display_name": "Python 3",
   "language": "python",
   "name": "python3"
  },
  "language_info": {
   "codemirror_mode": {
    "name": "ipython",
    "version": 3
   },
   "file_extension": ".py",
   "mimetype": "text/x-python",
   "name": "python",
   "nbconvert_exporter": "python",
   "pygments_lexer": "ipython3",
   "version": "3.6.4"
  }
 },
 "nbformat": 4,
 "nbformat_minor": 2
}
